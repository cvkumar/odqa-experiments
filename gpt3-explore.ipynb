{
 "cells": [
  {
   "cell_type": "code",
   "execution_count": 5,
   "id": "a9ee0705-67f9-49f7-ba2c-99da8ddbffe7",
   "metadata": {},
   "outputs": [],
   "source": [
    "import pandas as pd\n",
    "import openai\n",
    "from constants import *"
   ]
  },
  {
   "cell_type": "code",
   "execution_count": 4,
   "id": "fc72c424-96ce-4508-8b88-cb71867a8705",
   "metadata": {},
   "outputs": [],
   "source": [
    "dpr_test = pd.read_json(\"data/dpr/nq_test.json\")"
   ]
  },
  {
   "cell_type": "code",
   "execution_count": 6,
   "id": "ddb3e930-4ec2-4409-afcb-ddcca70919db",
   "metadata": {},
   "outputs": [],
   "source": [
    "openai.api_key = OPEN_AI_API_KEY"
   ]
  },
  {
   "cell_type": "code",
   "execution_count": 7,
   "id": "5def9252-6998-4554-a84a-30d235710cca",
   "metadata": {},
   "outputs": [],
   "source": [
    "# result = openai.Answer.create(\n",
    "#     search_model=\"ada\", \n",
    "#     model=\"curie\", \n",
    "#     question=\"which puppy is happy?\", \n",
    "#     documents=[\"Puppy C is happy.\"], \n",
    "#     examples_context=\"In 2017, U.S. life expectancy was 78.6 years.\", \n",
    "#     examples=[[\"What is human life expectancy in the United States?\", \"78 years.\"]], \n",
    "#     max_rerank=10,\n",
    "#     max_tokens=5,\n",
    "#     stop=[\"\\n\", \"<|endoftext|>\"]\n",
    "# )\n",
    "\n",
    "# print(result)"
   ]
  },
  {
   "cell_type": "code",
   "execution_count": 64,
   "id": "c89d3471-49c3-415e-9735-686224c34dc9",
   "metadata": {},
   "outputs": [
    {
     "data": {
      "text/plain": [
       "3"
      ]
     },
     "execution_count": 64,
     "metadata": {},
     "output_type": "execute_result"
    }
   ],
   "source": [
    "len(dpr_test.iloc[0]['ctxs'][0:3])"
   ]
  },
  {
   "cell_type": "code",
   "execution_count": 65,
   "id": "e37d9cdf-f0d4-41c2-8aed-17c94610f7cb",
   "metadata": {},
   "outputs": [],
   "source": [
    "question_text = dpr_test['question'][0]"
   ]
  },
  {
   "cell_type": "code",
   "execution_count": 66,
   "id": "92919083-8422-4319-b60f-b2c523123650",
   "metadata": {},
   "outputs": [],
   "source": [
    "ctxs = dpr_test['ctxs'][0][0:10]"
   ]
  },
  {
   "cell_type": "code",
   "execution_count": 67,
   "id": "43dc5664-31ed-40a2-b7f6-a1824ed36541",
   "metadata": {},
   "outputs": [],
   "source": [
    "contexts = [context['text'] for context in ctxs]"
   ]
  },
  {
   "cell_type": "code",
   "execution_count": 68,
   "id": "b6dffc3d-62ed-4200-9516-645808123bf6",
   "metadata": {},
   "outputs": [
    {
     "data": {
      "text/plain": [
       "'who got the first nobel prize in physics'"
      ]
     },
     "execution_count": 68,
     "metadata": {},
     "output_type": "execute_result"
    }
   ],
   "source": [
    "question_text"
   ]
  },
  {
   "cell_type": "code",
   "execution_count": 69,
   "id": "8eff15a1-f5d2-46c5-b6fe-01bef59ff2e6",
   "metadata": {},
   "outputs": [
    {
     "data": {
      "text/plain": [
       "10"
      ]
     },
     "execution_count": 69,
     "metadata": {},
     "output_type": "execute_result"
    }
   ],
   "source": [
    "len(contexts)"
   ]
  },
  {
   "cell_type": "code",
   "execution_count": 92,
   "id": "792744e6-2d55-407d-8fe9-9889e7d08b9b",
   "metadata": {},
   "outputs": [],
   "source": [
    "sample = \"\"\"\n",
    "Abraham Lincoln (/ˈlɪŋkən/; February 12, 1809 – April 15, 1865) was an American lawyer and statesman who served as the 16th president of the United States from 1861 until his assassination in 1865. Lincoln led the nation through the American Civil War and succeeded in preserving the Union, abolishing slavery, bolstering the federal government, and modernizing the U.S. economy. Lincoln was born into poverty in a log cabin in Kentucky and was raised on the frontier, primarily in Indiana. He was self-educated and became a lawyer, Whig Party leader, Illinois state legislator, and U.S. Congressman from Illinois. In 1849, he returned to his law practice but became vexed by the opening of additional lands to slavery as a result of the Kansas–Nebraska Act of 1854. He reentered politics in 1854, becoming a leader in the new Republican Party, and he reached a national audience in the 1858 Senate campaign debates against Stephen Douglas. Lincoln ran for President in 1860, sweeping the North to gain victory. Pro-slavery elements in the South viewed his success as a threat to slavery, and Southern states began seceding from the Union. To secure its independence, the new Confederate States fired on Fort Sumter, a U.S. fort in South Carolina, and Lincoln called up forces to suppress the rebellion and restore the Union. Lincoln, a moderate Republican, had to navigate a contentious array of factions with friends and opponents from both the Democratic and Republican parties. His allies, the War Democrats and the Radical Republicans, demanded harsh treatment of the Southern Confederates. Anti-war Democrats (called \"Copperheads\") despised Lincoln, and irreconcilable pro-Confederate elements plotted his assassination. He managed the factions by exploiting their mutual enmity, carefully distributing political patronage, and by appealing to the American people. His Gettysburg Address appealed to nationalistic, republican, egalitarian, libertarian, and democratic sentiments. Lincoln supervised the strategy and tactics in the war effort, including the selection of generals, and implemented a naval blockade of the South's trade. He suspended habeas corpus in Maryland, and he averted British intervention by defusing the Trent Affair. He engineered the end to slavery with his Emancipation Proclamation, including his order that the Army and Navy liberate, protect, and recruit former slaves. He also encouraged border states to outlaw slavery, and promoted the Thirteenth Amendment to the United States Constitution, which outlawed slavery across the country. Lincoln managed his own successful re-election campaign. He sought to heal the war-torn nation through reconciliation. On April 14, 1865, just days after the war's end at Appomattox, he was attending a play at Ford's Theatre in Washington, D.C., with his wife Mary when he was fatally shot by Confederate sympathizer John Wilkes Booth. Lincoln is remembered as a martyr and hero of the United States and is often ranked as the greatest president in American history.\n",
    "\"\"\"\n",
    "sample_examples = [[\"Who was the 16th president of the United States?\", \"Abraham Lincoln\"], [\"Through what major war did Abraham Lincoln serve as United States president?\", \"American Civil War\"], [\"What year was Abraham Lincoln killed?\", \"1865\"]]"
   ]
  },
  {
   "cell_type": "code",
   "execution_count": 89,
   "id": "03e767f8-a7df-47b9-b936-49a4900ff331",
   "metadata": {},
   "outputs": [],
   "source": [
    "contexts = contexts[0:5]"
   ]
  },
  {
   "cell_type": "code",
   "execution_count": 90,
   "id": "fba33897-6c6c-4bc8-bddc-cc7b93c90244",
   "metadata": {},
   "outputs": [],
   "source": [
    "result = openai.Answer.create(\n",
    "    search_model=\"davinci\", \n",
    "    model=\"davinci\", \n",
    "    question=question_text, \n",
    "    documents=contexts, \n",
    "    examples_context=sample, \n",
    "    examples=[[\"Who was the 16th president of the United States?\", \"Abraham Lincoln\"], [\"Through what major war did Abraham Lincoln serve as United States president?\", \"American Civil War\"], [\"What year was Abraham Lincoln killed?\", \"1865\"]], \n",
    "    max_rerank=3,\n",
    "    max_tokens=5,\n",
    "    stop=[\"\\n\", \"<|endoftext|>\"]\n",
    ")"
   ]
  },
  {
   "cell_type": "code",
   "execution_count": 91,
   "id": "bc109bc1-51c0-4d44-8618-776b160f919c",
   "metadata": {},
   "outputs": [
    {
     "data": {
      "text/plain": [
       "<OpenAIObject answer at 0x7fc05823e950> JSON: {\n",
       "  \"answers\": [\n",
       "    \"Wilhelm R\\u00f6ntgen\"\n",
       "  ],\n",
       "  \"completion\": \"cmpl-4sknB8KHNkLvvY4ZZCGGtHvb8kCVL\",\n",
       "  \"model\": \"davinci:2020-05-03\",\n",
       "  \"object\": \"answer\",\n",
       "  \"search_model\": \"davinci:2020-05-03\",\n",
       "  \"selected_documents\": [\n",
       "    {\n",
       "      \"document\": 4,\n",
       "      \"object\": \"search_result\",\n",
       "      \"score\": 100.182,\n",
       "      \"text\": \"His son, George Paget Thomson, received the same prize in 1937 for showing that they also have the properties of waves. William Henry Bragg and his son, William Lawrence Bragg, shared the Physics Prize in 1915 for inventing the X-ray spectrometer. Niels Bohr was awarded the Physics prize in 1922, as was his son, Aage Bohr, in 1975. Manne Siegbahn, who received the Physics Prize in 1924, was the father of Kai Siegbahn, who received the Physics Prize in 1981. Hans von Euler-Chelpin, who received the Chemistry Prize in 1929, was the father of Ulf von Euler, who was awarded \"\n",
       "    },\n",
       "    {\n",
       "      \"document\": 1,\n",
       "      \"object\": \"search_result\",\n",
       "      \"score\": 122.395,\n",
       "      \"text\": \"Wilhelm R\\u00f6ntgen Wilhelm Conrad R\\u00f6ntgen (; ; 27 March 1845 \\u2013 10 February 1923) was a German mechanical engineer and physicist, who, on 8 November 1895, produced and detected electromagnetic radiation in a wavelength range known as X-rays or R\\u00f6ntgen rays, an achievement that earned him the first Nobel Prize in Physics in 1901. In honour of his accomplishments, in 2004 the International Union of Pure and Applied Chemistry (IUPAC) named element 111, roentgenium, a radioactive element with multiple unstable isotopes, after him. Born to a German father and a Dutch mother, R\\u00f6ntgen attended high school in Utrecht, Netherlands. In \"\n",
       "    },\n",
       "    {\n",
       "      \"document\": 0,\n",
       "      \"object\": \"search_result\",\n",
       "      \"score\": 122.396,\n",
       "      \"text\": \"Wilhelm R\\u00f6ntgen Wilhelm Conrad R\\u00f6ntgen (; ; 27 March 1845 \\u2013 10 February 1923) was a German mechanical engineer and physicist, who, on 8 November 1895, produced and detected electromagnetic radiation in a wavelength range known as X-rays or R\\u00f6ntgen rays, an achievement that earned him the first Nobel Prize in Physics in 1901. In honour of his accomplishments, in 2004 the International Union of Pure and Applied Chemistry (IUPAC) named element 111, roentgenium, a radioactive element with multiple unstable isotopes, after him. Born to a German father and a Dutch mother, R\\u00f6ntgen attended high school in Utrecht, Netherlands. In \"\n",
       "    }\n",
       "  ]\n",
       "}"
      ]
     },
     "execution_count": 91,
     "metadata": {},
     "output_type": "execute_result"
    }
   ],
   "source": [
    "result"
   ]
  },
  {
   "cell_type": "code",
   "execution_count": 74,
   "id": "f41ff38f-d281-4d24-aec4-65aec4615a3e",
   "metadata": {},
   "outputs": [
    {
     "data": {
      "text/plain": [
       "'Wilhelm Röntgen'"
      ]
     },
     "execution_count": 74,
     "metadata": {},
     "output_type": "execute_result"
    }
   ],
   "source": [
    "result[\"answers\"][0]"
   ]
  },
  {
   "cell_type": "code",
   "execution_count": null,
   "id": "acb698fa-622d-47da-8165-772afd8d077b",
   "metadata": {},
   "outputs": [],
   "source": []
  }
 ],
 "metadata": {
  "kernelspec": {
   "display_name": "odqa-experiments",
   "language": "python",
   "name": "odqa-experiments"
  },
  "language_info": {
   "codemirror_mode": {
    "name": "ipython",
    "version": 3
   },
   "file_extension": ".py",
   "mimetype": "text/x-python",
   "name": "python",
   "nbconvert_exporter": "python",
   "pygments_lexer": "ipython3",
   "version": "3.9.7"
  }
 },
 "nbformat": 4,
 "nbformat_minor": 5
}
