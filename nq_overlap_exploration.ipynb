{
 "cells": [
  {
   "cell_type": "code",
   "execution_count": 2,
   "id": "9b243241-c1c8-4cae-851b-dfdf6d850b34",
   "metadata": {},
   "outputs": [],
   "source": [
    "import pandas as pd\n",
    "# We want to try to see how the Google model does on the Overlap stuff"
   ]
  },
  {
   "cell_type": "code",
   "execution_count": 22,
   "id": "188ae1e0-b032-420c-afc2-84123cf3465f",
   "metadata": {},
   "outputs": [],
   "source": [
    "nq_test = pd.read_csv(\"data/nq-test.qa.csv\", sep=\"\\t\", names=[\"question\", \"answers\"])"
   ]
  },
  {
   "cell_type": "code",
   "execution_count": 23,
   "id": "eac56322-0246-45f9-83ce-f56d9bad2012",
   "metadata": {},
   "outputs": [
    {
     "data": {
      "text/html": [
       "<div>\n",
       "<style scoped>\n",
       "    .dataframe tbody tr th:only-of-type {\n",
       "        vertical-align: middle;\n",
       "    }\n",
       "\n",
       "    .dataframe tbody tr th {\n",
       "        vertical-align: top;\n",
       "    }\n",
       "\n",
       "    .dataframe thead th {\n",
       "        text-align: right;\n",
       "    }\n",
       "</style>\n",
       "<table border=\"1\" class=\"dataframe\">\n",
       "  <thead>\n",
       "    <tr style=\"text-align: right;\">\n",
       "      <th></th>\n",
       "      <th>question</th>\n",
       "      <th>answers</th>\n",
       "    </tr>\n",
       "  </thead>\n",
       "  <tbody>\n",
       "    <tr>\n",
       "      <th>0</th>\n",
       "      <td>who got the first nobel prize in physics</td>\n",
       "      <td>['Wilhelm Conrad Röntgen']</td>\n",
       "    </tr>\n",
       "    <tr>\n",
       "      <th>1</th>\n",
       "      <td>when is the next deadpool movie being released</td>\n",
       "      <td>['May 18 , 2018']</td>\n",
       "    </tr>\n",
       "    <tr>\n",
       "      <th>2</th>\n",
       "      <td>which mode is used for short wave broadcast se...</td>\n",
       "      <td>['Olivia', 'MFSK']</td>\n",
       "    </tr>\n",
       "    <tr>\n",
       "      <th>3</th>\n",
       "      <td>the south west wind blows across nigeria between</td>\n",
       "      <td>['till September']</td>\n",
       "    </tr>\n",
       "    <tr>\n",
       "      <th>4</th>\n",
       "      <td>what does hp mean in war and order</td>\n",
       "      <td>['hit points or health points']</td>\n",
       "    </tr>\n",
       "  </tbody>\n",
       "</table>\n",
       "</div>"
      ],
      "text/plain": [
       "                                            question  \\\n",
       "0           who got the first nobel prize in physics   \n",
       "1     when is the next deadpool movie being released   \n",
       "2  which mode is used for short wave broadcast se...   \n",
       "3   the south west wind blows across nigeria between   \n",
       "4                 what does hp mean in war and order   \n",
       "\n",
       "                           answers  \n",
       "0       ['Wilhelm Conrad Röntgen']  \n",
       "1                ['May 18 , 2018']  \n",
       "2               ['Olivia', 'MFSK']  \n",
       "3               ['till September']  \n",
       "4  ['hit points or health points']  "
      ]
     },
     "execution_count": 23,
     "metadata": {},
     "output_type": "execute_result"
    }
   ],
   "source": [
    "nq_test.head()"
   ]
  },
  {
   "cell_type": "code",
   "execution_count": 24,
   "id": "2971dd9a-62da-40b1-b101-4a2f1d4f31f1",
   "metadata": {},
   "outputs": [],
   "source": [
    "nq_annotations = pd.read_json(\"data/nq-annotations.jsonl\", lines=True)\n",
    "\n",
    "\"\"\"\n",
    "['no_answer_overlap', 'no_question_overlap'] -> no overlap\n",
    "\n",
    "['answer_overlap', 'question_overlap'] -> both overlap: aq\n",
    "\n",
    "['answer_overlap', 'no_question_overlap', 'answer_overlap_only'] -> only answer overlap: a\n",
    "\n",
    "['total', 'no_answer_overlap', 'question_overlap']] ->  only question overlap: \n",
    "\n",
    "['answer_overlap'] -> Answer overlap and has question overlap? : a and unknown q\n",
    "\n",
    "['no_answer_overlap'] -> No answer overlap and has question overlap: unknown q\n",
    "\n",
    "\n",
    "\n",
    "\n",
    "\"\"\""
   ]
  },
  {
   "cell_type": "code",
   "execution_count": 32,
   "id": "f5ebe965-34bb-4715-9c73-616caf0a0a57",
   "metadata": {},
   "outputs": [],
   "source": [
    "nq_test['overlap'] = nq_annotations.labels"
   ]
  },
  {
   "cell_type": "code",
   "execution_count": 48,
   "id": "6ee2667b-ed98-47e6-b219-649e277df518",
   "metadata": {},
   "outputs": [],
   "source": [
    "results = []\n",
    "no_overlap = 0\n",
    "for i in range(len(nq_test)):\n",
    "    tmp = list(nq_test.iloc[i]['overlap'])\n",
    "    \n",
    "    if 'no_answer_overlap' in tmp and 'no_question_overlap' in tmp:\n",
    "        no_overlap +=1\n",
    "    \n",
    "    if tmp not in results:\n",
    "        results.append(tmp)\n",
    "    \n",
    "    "
   ]
  },
  {
   "cell_type": "code",
   "execution_count": 49,
   "id": "289aa0a6-076d-4abf-8bbf-0a88785fe5eb",
   "metadata": {},
   "outputs": [
    {
     "data": {
      "text/plain": [
       "357"
      ]
     },
     "execution_count": 49,
     "metadata": {},
     "output_type": "execute_result"
    }
   ],
   "source": [
    "no_overlap"
   ]
  },
  {
   "cell_type": "code",
   "execution_count": null,
   "id": "0b627910-9015-48de-aba6-3d90c984cc6c",
   "metadata": {},
   "outputs": [],
   "source": []
  }
 ],
 "metadata": {
  "kernelspec": {
   "display_name": "Python 3 (ipykernel)",
   "language": "python",
   "name": "python3"
  },
  "language_info": {
   "codemirror_mode": {
    "name": "ipython",
    "version": 3
   },
   "file_extension": ".py",
   "mimetype": "text/x-python",
   "name": "python",
   "nbconvert_exporter": "python",
   "pygments_lexer": "ipython3",
   "version": "3.9.7"
  }
 },
 "nbformat": 4,
 "nbformat_minor": 5
}
