{
 "cells": [
  {
   "cell_type": "code",
   "execution_count": 55,
   "id": "5c0bb57c-21c8-4e4d-a041-cbdd5bbd17d8",
   "metadata": {},
   "outputs": [],
   "source": [
    "import pandas as pd\n",
    "import transformers\n",
    "from evaluate import *\n",
    "\n",
    "from overlap_evaluate import (\n",
    "    _print_score,\n",
    "    get_scores,\n",
    "    read_references,\n",
    "    read_annotations,\n",
    "    ANNOTATIONS,\n",
    ")\n",
    "from sklearn.model_selection import train_test_split\n",
    "\n",
    "from transformers import AutoModelForSequenceClassification, TrainingArguments, Trainer, AutoTokenizer\n",
    "import torch\n",
    "\n",
    "import ast"
   ]
  },
  {
   "cell_type": "code",
   "execution_count": 56,
   "id": "f74bce22-962b-4d45-ace9-c449c0216f66",
   "metadata": {},
   "outputs": [],
   "source": [
    "dataset = \"nq\"\n",
    "data_df = pd.read_csv(f\"data/{dataset}-test-ctxs.qa.csv\")\n",
    "annotations = read_annotations(f\"data/{dataset}-annotations.jsonl\")\n",
    "annotation_df = pd.DataFrame(annotations)"
   ]
  },
  {
   "cell_type": "code",
   "execution_count": 57,
   "id": "5e90de06-ca54-4d66-a813-fd8975e6f841",
   "metadata": {},
   "outputs": [],
   "source": [
    "data_df = data_df.drop('ctxs', axis=1)\n",
    "data_df = data_df.drop('question', axis=1)\n",
    "data_df['labels'] = annotation_df['labels']"
   ]
  },
  {
   "cell_type": "code",
   "execution_count": 58,
   "id": "c5e2b801-c846-486f-ab01-d6bc44a47281",
   "metadata": {},
   "outputs": [],
   "source": [
    "data_df[\"answers\"] = data_df[\"answers\"].apply(\n",
    "            lambda x: ast.literal_eval(x)\n",
    "        )"
   ]
  },
  {
   "cell_type": "code",
   "execution_count": null,
   "id": "d6ab9182-660c-4b32-bbf5-dcb3cae7dbb0",
   "metadata": {},
   "outputs": [],
   "source": []
  },
  {
   "cell_type": "code",
   "execution_count": 60,
   "id": "b6af9348-537d-47d4-882a-49ccc1dd08c9",
   "metadata": {},
   "outputs": [
    {
     "data": {
      "text/plain": [
       "['Wilhelm Conrad Röntgen']"
      ]
     },
     "execution_count": 60,
     "metadata": {},
     "output_type": "execute_result"
    }
   ],
   "source": [
    "data_df.iloc[0]['answers']"
   ]
  },
  {
   "cell_type": "code",
   "execution_count": 63,
   "id": "0c0679ae-cd50-40da-882f-15263ee6dbe3",
   "metadata": {},
   "outputs": [],
   "source": [
    "# ANSWER and NO ANSWER OVERLAP\n",
    "results = []\n",
    "for index, row in data_df.iterrows():\n",
    "    overlap = None\n",
    "    # print(row[\"labels\"])\n",
    "    if \"no_answer_overlap\" in row['labels']:\n",
    "        overlap = 0\n",
    "    elif \"answer_overlap\" in row['labels']:\n",
    "        overlap = 1\n",
    "\n",
    "    if overlap is not None:\n",
    "        # for answer in row[\"answers\"]:\n",
    "        results.append({\n",
    "            \"answer\": row['answers'][0],\n",
    "            \"overlap\": overlap\n",
    "        })"
   ]
  },
  {
   "cell_type": "code",
   "execution_count": 65,
   "id": "c3a1db1e-00f6-4d66-8305-d731dd72aa10",
   "metadata": {},
   "outputs": [],
   "source": [
    "data_df = pd.DataFrame(results)"
   ]
  },
  {
   "cell_type": "code",
   "execution_count": 66,
   "id": "0099513b-be9a-4185-a494-6a9f5d264a5a",
   "metadata": {},
   "outputs": [
    {
     "data": {
      "text/plain": [
       "1    2297\n",
       "0    1313\n",
       "Name: overlap, dtype: int64"
      ]
     },
     "execution_count": 66,
     "metadata": {},
     "output_type": "execute_result"
    }
   ],
   "source": [
    "data_df['overlap'].value_counts()"
   ]
  },
  {
   "cell_type": "code",
   "execution_count": 67,
   "id": "975c9651-1120-4484-b4cb-77fa2f45bfc1",
   "metadata": {},
   "outputs": [],
   "source": [
    "train_df, test_df = train_test_split(data_df, train_size=.8, random_state=42)"
   ]
  },
  {
   "cell_type": "code",
   "execution_count": 68,
   "id": "fe46cd1b-4311-42ea-89ab-c42930c31061",
   "metadata": {},
   "outputs": [
    {
     "data": {
      "text/plain": [
       "1    1830\n",
       "0    1058\n",
       "Name: overlap, dtype: int64"
      ]
     },
     "execution_count": 68,
     "metadata": {},
     "output_type": "execute_result"
    }
   ],
   "source": [
    "train_df['overlap'].value_counts()"
   ]
  },
  {
   "cell_type": "code",
   "execution_count": 69,
   "id": "7fa7d7dc-4b83-423c-ba2e-2eac23639f09",
   "metadata": {},
   "outputs": [
    {
     "data": {
      "text/plain": [
       "1    467\n",
       "0    255\n",
       "Name: overlap, dtype: int64"
      ]
     },
     "execution_count": 69,
     "metadata": {},
     "output_type": "execute_result"
    }
   ],
   "source": [
    "test_df['overlap'].value_counts()"
   ]
  },
  {
   "cell_type": "code",
   "execution_count": 70,
   "id": "336d9dcf-cc54-415a-9a7d-b275b171267d",
   "metadata": {},
   "outputs": [],
   "source": [
    "train_df = pd.concat([train_df, train_df.loc[train_df['overlap'] == 0].sample(n=772, random_state=42, replace=True)])"
   ]
  },
  {
   "cell_type": "code",
   "execution_count": 71,
   "id": "4eb8fbcf-4b0c-49ed-ba7e-34270e9fa363",
   "metadata": {},
   "outputs": [
    {
     "data": {
      "text/plain": [
       "1    1830\n",
       "0    1830\n",
       "Name: overlap, dtype: int64"
      ]
     },
     "execution_count": 71,
     "metadata": {},
     "output_type": "execute_result"
    }
   ],
   "source": [
    "train_df['overlap'].value_counts()"
   ]
  },
  {
   "cell_type": "code",
   "execution_count": 79,
   "id": "0b39833f-1587-4859-a3ea-50ec6d86e5a2",
   "metadata": {},
   "outputs": [
    {
     "data": {
      "text/plain": [
       "1    467\n",
       "0    255\n",
       "Name: overlap, dtype: int64"
      ]
     },
     "execution_count": 79,
     "metadata": {},
     "output_type": "execute_result"
    }
   ],
   "source": [
    "test_df['overlap'].value_counts()"
   ]
  },
  {
   "cell_type": "code",
   "execution_count": 74,
   "id": "88ba1c2c-9894-44bf-9837-fffc2987f435",
   "metadata": {},
   "outputs": [],
   "source": [
    "model_name = \"bert-base-uncased\"\n",
    "tokenizer = AutoTokenizer.from_pretrained(model_name)"
   ]
  },
  {
   "cell_type": "code",
   "execution_count": 81,
   "id": "0f3a0cc5-fd45-44e6-8ab1-54465253c4fb",
   "metadata": {},
   "outputs": [],
   "source": [
    "train_encodings = tokenizer(list(train_df['answer']), padding=True, truncation=True, return_tensors=\"pt\")\n",
    "test_encodings = tokenizer(list(test_df['answer']), padding=True, truncation=True, return_tensors=\"pt\")"
   ]
  },
  {
   "cell_type": "code",
   "execution_count": 82,
   "id": "bcbde803-b055-45c0-bfb2-d1f3e8e54fd4",
   "metadata": {},
   "outputs": [],
   "source": [
    "class OverlapDataset(torch.utils.data.Dataset):\n",
    "    def __init__(self, encodings, labels):\n",
    "        self.encodings = encodings\n",
    "        self.labels = labels\n",
    "\n",
    "    def __getitem__(self, idx):\n",
    "        item = {key: torch.tensor(val[idx]) for key, val in self.encodings.items()}\n",
    "        item['labels'] = torch.tensor(self.labels[idx])\n",
    "        return item\n",
    "\n",
    "    def __len__(self):\n",
    "        return len(self.labels)"
   ]
  },
  {
   "cell_type": "code",
   "execution_count": 83,
   "id": "704c657c-2584-4293-b411-5f3db2796fe4",
   "metadata": {},
   "outputs": [],
   "source": [
    "train_dataset = OverlapDataset(train_encodings, list(train_df['overlap']))\n",
    "test_dataset = OverlapDataset(test_encodings, list(test_df['overlap']))"
   ]
  },
  {
   "cell_type": "code",
   "execution_count": 84,
   "id": "6cc688f2-d58d-41b9-ac1d-1df9471e91c5",
   "metadata": {},
   "outputs": [
    {
     "name": "stderr",
     "output_type": "stream",
     "text": [
      "Some weights of the model checkpoint at bert-base-uncased were not used when initializing BertForSequenceClassification: ['cls.predictions.transform.dense.weight', 'cls.seq_relationship.bias', 'cls.predictions.transform.LayerNorm.weight', 'cls.predictions.decoder.weight', 'cls.predictions.transform.dense.bias', 'cls.predictions.transform.LayerNorm.bias', 'cls.seq_relationship.weight', 'cls.predictions.bias']\n",
      "- This IS expected if you are initializing BertForSequenceClassification from the checkpoint of a model trained on another task or with another architecture (e.g. initializing a BertForSequenceClassification model from a BertForPreTraining model).\n",
      "- This IS NOT expected if you are initializing BertForSequenceClassification from the checkpoint of a model that you expect to be exactly identical (initializing a BertForSequenceClassification model from a BertForSequenceClassification model).\n",
      "Some weights of BertForSequenceClassification were not initialized from the model checkpoint at bert-base-uncased and are newly initialized: ['classifier.bias', 'classifier.weight']\n",
      "You should probably TRAIN this model on a down-stream task to be able to use it for predictions and inference.\n",
      "/Users/calebkumar/repos/stanford/project/odqa-experiments/odqa-experiments/lib/python3.9/site-packages/transformers/optimization.py:306: FutureWarning: This implementation of AdamW is deprecated and will be removed in a future version. Use the PyTorch implementation torch.optim.AdamW instead, or set `no_deprecation_warning=True` to disable this warning\n",
      "  warnings.warn(\n",
      "***** Running training *****\n",
      "  Num examples = 3660\n",
      "  Num Epochs = 2\n",
      "  Instantaneous batch size per device = 8\n",
      "  Total train batch size (w. parallel, distributed & accumulation) = 8\n",
      "  Gradient Accumulation steps = 1\n",
      "  Total optimization steps = 916\n",
      "/var/folders/5c/rh_j56vx44n9xrrr4x_wcf0m0000gn/T/ipykernel_25912/2581479770.py:7: UserWarning: To copy construct from a tensor, it is recommended to use sourceTensor.clone().detach() or sourceTensor.clone().detach().requires_grad_(True), rather than torch.tensor(sourceTensor).\n",
      "  item = {key: torch.tensor(val[idx]) for key, val in self.encodings.items()}\n"
     ]
    },
    {
     "data": {
      "text/html": [
       "\n",
       "    <div>\n",
       "      \n",
       "      <progress value='916' max='916' style='width:300px; height:20px; vertical-align: middle;'></progress>\n",
       "      [916/916 33:43, Epoch 2/2]\n",
       "    </div>\n",
       "    <table border=\"1\" class=\"dataframe\">\n",
       "  <thead>\n",
       " <tr style=\"text-align: left;\">\n",
       "      <th>Step</th>\n",
       "      <th>Training Loss</th>\n",
       "    </tr>\n",
       "  </thead>\n",
       "  <tbody>\n",
       "    <tr>\n",
       "      <td>500</td>\n",
       "      <td>0.562400</td>\n",
       "    </tr>\n",
       "  </tbody>\n",
       "</table><p>"
      ],
      "text/plain": [
       "<IPython.core.display.HTML object>"
      ]
     },
     "metadata": {},
     "output_type": "display_data"
    },
    {
     "name": "stderr",
     "output_type": "stream",
     "text": [
      "Saving model checkpoint to saved_models/overlap_bert_answers/checkpoint-500\n",
      "Configuration saved in saved_models/overlap_bert_answers/checkpoint-500/config.json\n",
      "Model weights saved in saved_models/overlap_bert_answers/checkpoint-500/pytorch_model.bin\n",
      "/var/folders/5c/rh_j56vx44n9xrrr4x_wcf0m0000gn/T/ipykernel_25912/2581479770.py:7: UserWarning: To copy construct from a tensor, it is recommended to use sourceTensor.clone().detach() or sourceTensor.clone().detach().requires_grad_(True), rather than torch.tensor(sourceTensor).\n",
      "  item = {key: torch.tensor(val[idx]) for key, val in self.encodings.items()}\n",
      "\n",
      "\n",
      "Training completed. Do not forget to share your model on huggingface.co/models =)\n",
      "\n",
      "\n"
     ]
    },
    {
     "name": "stdout",
     "output_type": "stream",
     "text": [
      "2026.3341250419617 seconds\n"
     ]
    }
   ],
   "source": [
    "model = AutoModelForSequenceClassification.from_pretrained(model_name, num_labels=2)\n",
    "training_args = TrainingArguments(\"saved_models/overlap_bert_answers\", num_train_epochs=2)\n",
    "trainer = Trainer(model=model, args=training_args, train_dataset=train_dataset, eval_dataset=test_dataset)\n",
    "start = time.time()\n",
    "trainer.train()\n",
    "print(f\"{time.time() - start} seconds\")"
   ]
  },
  {
   "cell_type": "code",
   "execution_count": 89,
   "id": "b4d685f5-8206-4ecc-9327-168be58e24e1",
   "metadata": {},
   "outputs": [
    {
     "data": {
      "text/plain": [
       "0"
      ]
     },
     "execution_count": 89,
     "metadata": {},
     "output_type": "execute_result"
    }
   ],
   "source": [
    "import numpy as np\n",
    "def bert_predict(model, text):\n",
    "    inputs = tokenizer(text, padding=True, truncation=True, return_tensors=\"pt\")\n",
    "    result = model(**inputs)\n",
    "    return np.argmax(result.logits.detach().numpy())\n",
    "\n",
    "bert_predict(model, \"Are you an egg?\")"
   ]
  },
  {
   "cell_type": "code",
   "execution_count": 92,
   "id": "ed6d8bba-3cee-47f4-a7d1-96a750711b02",
   "metadata": {},
   "outputs": [
    {
     "data": {
      "text/plain": [
       "(722, 2)"
      ]
     },
     "execution_count": 92,
     "metadata": {},
     "output_type": "execute_result"
    }
   ],
   "source": [
    "test_df.shape"
   ]
  },
  {
   "cell_type": "code",
   "execution_count": 90,
   "id": "dab06f51-3f63-4eea-9e7e-f625167be8f6",
   "metadata": {},
   "outputs": [],
   "source": [
    "predictions = []\n",
    "for i in range(len(test_df)):\n",
    "    predictions.append(bert_predict(model, test_df.iloc[i]['answer']))\n",
    "\n"
   ]
  },
  {
   "cell_type": "code",
   "execution_count": 91,
   "id": "fa466151-8b07-4408-9fa2-e9620c2b99c1",
   "metadata": {},
   "outputs": [
    {
     "name": "stdout",
     "output_type": "stream",
     "text": [
      "              precision    recall  f1-score   support\n",
      "\n",
      "           0     0.6208    0.6549    0.6374       255\n",
      "           1     0.8057    0.7816    0.7935       467\n",
      "\n",
      "    accuracy                         0.7368       722\n",
      "   macro avg     0.7133    0.7182    0.7154       722\n",
      "weighted avg     0.7404    0.7368    0.7384       722\n",
      "\n"
     ]
    }
   ],
   "source": [
    "from sklearn.metrics import classification_report\n",
    "print(classification_report(list(test_df['overlap']), predictions, digits=4))"
   ]
  },
  {
   "cell_type": "code",
   "execution_count": 88,
   "id": "e3fa6529-79ed-4539-9302-dfecec27d138",
   "metadata": {},
   "outputs": [
    {
     "name": "stderr",
     "output_type": "stream",
     "text": [
      "Configuration saved in saved_models/bert_answer_overlap_classifier/config.json\n",
      "Model weights saved in saved_models/bert_answer_overlap_classifier/pytorch_model.bin\n"
     ]
    }
   ],
   "source": [
    "model.save_pretrained(\"saved_models/bert_answer_overlap_classifier\")"
   ]
  },
  {
   "cell_type": "code",
   "execution_count": null,
   "id": "5b7cd51e-921d-4784-8243-d06ece6a6181",
   "metadata": {},
   "outputs": [],
   "source": []
  }
 ],
 "metadata": {
  "kernelspec": {
   "display_name": "odqa-experiments",
   "language": "python",
   "name": "odqa-experiments"
  },
  "language_info": {
   "codemirror_mode": {
    "name": "ipython",
    "version": 3
   },
   "file_extension": ".py",
   "mimetype": "text/x-python",
   "name": "python",
   "nbconvert_exporter": "python",
   "pygments_lexer": "ipython3",
   "version": "3.9.7"
  }
 },
 "nbformat": 4,
 "nbformat_minor": 5
}
