{
 "cells": [
  {
   "cell_type": "code",
   "execution_count": 3,
   "id": "ed19abc8-0ba1-4df8-a707-4b4d02806174",
   "metadata": {},
   "outputs": [],
   "source": [
    "import pandas as pd\n",
    "import string\n",
    "from utils import *"
   ]
  },
  {
   "cell_type": "code",
   "execution_count": null,
   "id": "fc1da83d-044e-4499-ab1e-049fcd093d4c",
   "metadata": {},
   "outputs": [],
   "source": []
  },
  {
   "cell_type": "code",
   "execution_count": 4,
   "id": "57012911-2019-4e57-aa72-a79cffc4a9fc",
   "metadata": {},
   "outputs": [],
   "source": [
    "import json\n",
    "pd.io.json._json.loads = lambda s, *a, **kw: json.loads(s)"
   ]
  },
  {
   "cell_type": "code",
   "execution_count": 5,
   "id": "d8e876a3-3bf8-4399-80bb-f98035ebadaf",
   "metadata": {},
   "outputs": [],
   "source": [
    "df = pd.read_json(\"data/natural_question/v1.0-simplified_simplified-nq-train.jsonl\", lines=True, nrows=100)"
   ]
  },
  {
   "cell_type": "code",
   "execution_count": 6,
   "id": "476320d8-0b4e-434e-ae65-7a4d6081e7fb",
   "metadata": {},
   "outputs": [
    {
     "data": {
      "text/html": [
       "<div>\n",
       "<style scoped>\n",
       "    .dataframe tbody tr th:only-of-type {\n",
       "        vertical-align: middle;\n",
       "    }\n",
       "\n",
       "    .dataframe tbody tr th {\n",
       "        vertical-align: top;\n",
       "    }\n",
       "\n",
       "    .dataframe thead th {\n",
       "        text-align: right;\n",
       "    }\n",
       "</style>\n",
       "<table border=\"1\" class=\"dataframe\">\n",
       "  <thead>\n",
       "    <tr style=\"text-align: right;\">\n",
       "      <th></th>\n",
       "      <th>document_text</th>\n",
       "      <th>long_answer_candidates</th>\n",
       "      <th>question_text</th>\n",
       "      <th>annotations</th>\n",
       "      <th>document_url</th>\n",
       "      <th>example_id</th>\n",
       "    </tr>\n",
       "  </thead>\n",
       "  <tbody>\n",
       "    <tr>\n",
       "      <th>0</th>\n",
       "      <td>Email marketing - Wikipedia &lt;H1&gt; Email marketi...</td>\n",
       "      <td>[{'start_token': 14, 'top_level': True, 'end_t...</td>\n",
       "      <td>which is the most common use of opt-in e-mail ...</td>\n",
       "      <td>[{'yes_no_answer': 'NONE', 'long_answer': {'st...</td>\n",
       "      <td>https://en.wikipedia.org//w/index.php?title=Em...</td>\n",
       "      <td>5655493461695504401</td>\n",
       "    </tr>\n",
       "    <tr>\n",
       "      <th>1</th>\n",
       "      <td>The Mother ( How I Met Your Mother ) - wikiped...</td>\n",
       "      <td>[{'start_token': 28, 'top_level': True, 'end_t...</td>\n",
       "      <td>how i.met your mother who is the mother</td>\n",
       "      <td>[{'yes_no_answer': 'NONE', 'long_answer': {'st...</td>\n",
       "      <td>https://en.wikipedia.org//w/index.php?title=Th...</td>\n",
       "      <td>5328212470870865242</td>\n",
       "    </tr>\n",
       "    <tr>\n",
       "      <th>2</th>\n",
       "      <td>Human fertilization - wikipedia &lt;H1&gt; Human fer...</td>\n",
       "      <td>[{'start_token': 14, 'top_level': True, 'end_t...</td>\n",
       "      <td>what type of fertilisation takes place in humans</td>\n",
       "      <td>[{'yes_no_answer': 'NONE', 'long_answer': {'st...</td>\n",
       "      <td>https://en.wikipedia.org//w/index.php?title=Hu...</td>\n",
       "      <td>4435104480114867852</td>\n",
       "    </tr>\n",
       "    <tr>\n",
       "      <th>3</th>\n",
       "      <td>List of National Football League career quarte...</td>\n",
       "      <td>[{'start_token': 28, 'top_level': True, 'end_t...</td>\n",
       "      <td>who had the most wins in the nfl</td>\n",
       "      <td>[{'yes_no_answer': 'NONE', 'long_answer': {'st...</td>\n",
       "      <td>https://en.wikipedia.org//w/index.php?title=Li...</td>\n",
       "      <td>5289242154789678439</td>\n",
       "    </tr>\n",
       "    <tr>\n",
       "      <th>4</th>\n",
       "      <td>Roanoke Colony - wikipedia &lt;H1&gt; Roanoke Colony...</td>\n",
       "      <td>[{'start_token': 32, 'top_level': True, 'end_t...</td>\n",
       "      <td>what happened to the lost settlement of roanoke</td>\n",
       "      <td>[{'yes_no_answer': 'NONE', 'long_answer': {'st...</td>\n",
       "      <td>https://en.wikipedia.org//w/index.php?title=Ro...</td>\n",
       "      <td>5489863933082811018</td>\n",
       "    </tr>\n",
       "  </tbody>\n",
       "</table>\n",
       "</div>"
      ],
      "text/plain": [
       "                                       document_text  \\\n",
       "0  Email marketing - Wikipedia <H1> Email marketi...   \n",
       "1  The Mother ( How I Met Your Mother ) - wikiped...   \n",
       "2  Human fertilization - wikipedia <H1> Human fer...   \n",
       "3  List of National Football League career quarte...   \n",
       "4  Roanoke Colony - wikipedia <H1> Roanoke Colony...   \n",
       "\n",
       "                              long_answer_candidates  \\\n",
       "0  [{'start_token': 14, 'top_level': True, 'end_t...   \n",
       "1  [{'start_token': 28, 'top_level': True, 'end_t...   \n",
       "2  [{'start_token': 14, 'top_level': True, 'end_t...   \n",
       "3  [{'start_token': 28, 'top_level': True, 'end_t...   \n",
       "4  [{'start_token': 32, 'top_level': True, 'end_t...   \n",
       "\n",
       "                                       question_text  \\\n",
       "0  which is the most common use of opt-in e-mail ...   \n",
       "1            how i.met your mother who is the mother   \n",
       "2   what type of fertilisation takes place in humans   \n",
       "3                   who had the most wins in the nfl   \n",
       "4    what happened to the lost settlement of roanoke   \n",
       "\n",
       "                                         annotations  \\\n",
       "0  [{'yes_no_answer': 'NONE', 'long_answer': {'st...   \n",
       "1  [{'yes_no_answer': 'NONE', 'long_answer': {'st...   \n",
       "2  [{'yes_no_answer': 'NONE', 'long_answer': {'st...   \n",
       "3  [{'yes_no_answer': 'NONE', 'long_answer': {'st...   \n",
       "4  [{'yes_no_answer': 'NONE', 'long_answer': {'st...   \n",
       "\n",
       "                                        document_url           example_id  \n",
       "0  https://en.wikipedia.org//w/index.php?title=Em...  5655493461695504401  \n",
       "1  https://en.wikipedia.org//w/index.php?title=Th...  5328212470870865242  \n",
       "2  https://en.wikipedia.org//w/index.php?title=Hu...  4435104480114867852  \n",
       "3  https://en.wikipedia.org//w/index.php?title=Li...  5289242154789678439  \n",
       "4  https://en.wikipedia.org//w/index.php?title=Ro...  5489863933082811018  "
      ]
     },
     "execution_count": 6,
     "metadata": {},
     "output_type": "execute_result"
    }
   ],
   "source": [
    "df.head()"
   ]
  },
  {
   "cell_type": "code",
   "execution_count": 7,
   "id": "f847face-1dd9-457b-ba7f-88b0c958a304",
   "metadata": {},
   "outputs": [
    {
     "data": {
      "text/plain": [
       "'who had the most wins in the nfl'"
      ]
     },
     "execution_count": 7,
     "metadata": {},
     "output_type": "execute_result"
    }
   ],
   "source": [
    "df.iloc[3]['question_text']"
   ]
  },
  {
   "cell_type": "code",
   "execution_count": 8,
   "id": "67c71365-12e2-4ad8-8847-f525c7c3dd6c",
   "metadata": {},
   "outputs": [
    {
     "data": {
      "text/plain": [
       "['Tom', 'Brady']"
      ]
     },
     "execution_count": 8,
     "metadata": {},
     "output_type": "execute_result"
    }
   ],
   "source": [
    "df.iloc[3]['document_text'].split(\" \")[512:514]"
   ]
  },
  {
   "cell_type": "code",
   "execution_count": 9,
   "id": "08145be1-0e9b-470a-98ee-131521f493b2",
   "metadata": {},
   "outputs": [],
   "source": [
    "dev_df = pd.read_json(\"data/natural_question/v1.0-simplified_nq-dev-all.jsonl\", lines=True, nrows=2000)"
   ]
  },
  {
   "cell_type": "code",
   "execution_count": 10,
   "id": "a1ae500c-2783-4452-aceb-b38547fe468e",
   "metadata": {},
   "outputs": [
    {
     "data": {
      "text/plain": [
       "'star wars the clone wars anakin voice actor'"
      ]
     },
     "execution_count": 10,
     "metadata": {},
     "output_type": "execute_result"
    }
   ],
   "source": [
    "dev_df.iloc[4]['question_text']"
   ]
  },
  {
   "cell_type": "code",
   "execution_count": 11,
   "id": "77b58c11-ac66-4252-a6c4-7e0894c7eb60",
   "metadata": {},
   "outputs": [],
   "source": [
    "# dev_df.iloc[4]['annotations'] # 173-179"
   ]
  },
  {
   "cell_type": "code",
   "execution_count": 12,
   "id": "72c942e0-48cf-4ad8-92d7-c0a64abb8fb7",
   "metadata": {},
   "outputs": [
    {
     "data": {
      "text/plain": [
       "{'annotation_id': 5834450600727459786,\n",
       " 'long_answer': {'candidate_index': 22,\n",
       "  'end_byte': 197000,\n",
       "  'end_token': 8433,\n",
       "  'start_byte': 16013,\n",
       "  'start_token': 684},\n",
       " 'short_answers': [{'end_byte': 133179,\n",
       "   'end_token': 5612,\n",
       "   'start_byte': 133173,\n",
       "   'start_token': 5611}],\n",
       " 'yes_no_answer': 'NONE'}"
      ]
     },
     "execution_count": 12,
     "metadata": {},
     "output_type": "execute_result"
    }
   ],
   "source": [
    "dev_df.iloc[150]['annotations'][1]\n"
   ]
  },
  {
   "cell_type": "code",
   "execution_count": null,
   "id": "8c0d3269-fbe7-4723-ab55-534c20559791",
   "metadata": {},
   "outputs": [],
   "source": []
  },
  {
   "cell_type": "code",
   "execution_count": 13,
   "id": "f65545ea-e16c-4c46-aade-26da95ca33eb",
   "metadata": {},
   "outputs": [],
   "source": [
    "from transformers import AutoModelForSeq2SeqLM, AutoTokenizer\n",
    "\n",
    "t5_qa_model = AutoModelForSeq2SeqLM.from_pretrained(\"google/t5-large-ssm-nq\")\n",
    "t5_tok = AutoTokenizer.from_pretrained(\"google/t5-large-ssm-nq\")\n"
   ]
  },
  {
   "cell_type": "code",
   "execution_count": 14,
   "id": "6f9f0b89-cf5d-45e0-bdd6-f44e1a445a8d",
   "metadata": {},
   "outputs": [
    {
     "name": "stdout",
     "output_type": "stream",
     "text": [
      "December 26, 1892\n"
     ]
    }
   ],
   "source": [
    "input_ids = t5_tok(\"When was Franklin D. Roosevelt born?\", return_tensors=\"pt\").input_ids\n",
    "gen_output = t5_qa_model.generate(input_ids)[0]\n",
    "\n",
    "print(t5_tok.decode(gen_output, skip_special_tokens=True))"
   ]
  },
  {
   "cell_type": "code",
   "execution_count": 15,
   "id": "c8f34721-6b71-412f-9a8d-e4c35b3e61ee",
   "metadata": {},
   "outputs": [
    {
     "name": "stdout",
     "output_type": "stream",
     "text": [
      "4\n"
     ]
    }
   ],
   "source": [
    "input_ids = t5_tok(\"Is 2+2=4?\", return_tensors=\"pt\").input_ids\n",
    "gen_output = t5_qa_model.generate(input_ids)[0]\n",
    "\n",
    "print(t5_tok.decode(gen_output, skip_special_tokens=True))"
   ]
  },
  {
   "cell_type": "code",
   "execution_count": 16,
   "id": "bd7a4852-a39f-4279-baa6-172ead7d8ebe",
   "metadata": {},
   "outputs": [
    {
     "data": {
      "text/plain": [
       "'star wars the clone wars anakin voice actor'"
      ]
     },
     "execution_count": 16,
     "metadata": {},
     "output_type": "execute_result"
    }
   ],
   "source": [
    "dev_df.iloc[4]['question_text']\n",
    "\n",
    "# ' '.join([token['token'] for token in dev_df.iloc[100]['document_tokens'][1110:1112]])"
   ]
  },
  {
   "cell_type": "code",
   "execution_count": null,
   "id": "67ed316e-6514-4db4-9c8a-ad5e8001e796",
   "metadata": {},
   "outputs": [],
   "source": []
  },
  {
   "cell_type": "code",
   "execution_count": 17,
   "id": "45b2ee7c-5b8f-447a-b6fb-7f61d57c86fb",
   "metadata": {},
   "outputs": [
    {
     "data": {
      "text/plain": [
       "'test'"
      ]
     },
     "execution_count": 17,
     "metadata": {},
     "output_type": "execute_result"
    }
   ],
   "source": [
    "normalize_answer('test')"
   ]
  },
  {
   "cell_type": "code",
   "execution_count": 18,
   "id": "46028977-0186-4bcb-ab84-6e63a5d2ebd3",
   "metadata": {},
   "outputs": [
    {
     "data": {
      "text/plain": [
       "1"
      ]
     },
     "execution_count": 18,
     "metadata": {},
     "output_type": "execute_result"
    }
   ],
   "source": [
    "tracker = []\n",
    "\n",
    "def has_short_answer(annotations: list):\n",
    "    if annotations:\n",
    "        return sum([len(annotation['short_answers']) > 0 for annotation in annotations]) > 1\n",
    "    else:\n",
    "        False\n",
    "\n",
    "def short_answer_string(sa_annotation, example):\n",
    "    start_token = sa_annotation['start_token']\n",
    "    end_token = sa_annotation['end_token']\n",
    "    token_dicts = example['document_tokens'][start_token:end_token]\n",
    "    return ' '.join([token_dict['token'] for token_dict in token_dicts])\n",
    "        \n",
    "def score_short_answer(prediction: str, example: dict):\n",
    "    annotations = example['annotations']\n",
    "    \n",
    "    tracker_sa = []\n",
    "    for annotation in annotations:\n",
    "        short_answers = annotation['short_answers']\n",
    "    \n",
    "        exact_match = any([normalize_answer(short_answer_string(answer, example)) == normalize_answer(prediction) for answer in short_answers])\n",
    "        tracker_sa.append([normalize_answer(short_answer_string(answer, example)) for answer in short_answers])\n",
    "            \n",
    "        if exact_match:\n",
    "            break\n",
    "    \n",
    "    tracker.append({\n",
    "        \"annotated_answers\": tracker_sa,\n",
    "        \"prediction\": prediction,\n",
    "        \"exact_match\": exact_match,\n",
    "        \"question\": example[\"question_text\"],\n",
    "        \"document_url\": example[\"document_url\"]\n",
    "       })\n",
    "    \n",
    "    if exact_match:\n",
    "        return 1\n",
    "    else:\n",
    "        return 0\n",
    "\n",
    "score_short_answer('T.j. miller', dev_df.iloc[100])\n",
    "    \n",
    "    "
   ]
  },
  {
   "cell_type": "code",
   "execution_count": 19,
   "id": "5ff3019b-5542-45a5-aa61-a217226af0ba",
   "metadata": {},
   "outputs": [
    {
     "data": {
      "text/plain": [
       "1"
      ]
     },
     "execution_count": 19,
     "metadata": {},
     "output_type": "execute_result"
    }
   ],
   "source": [
    "def predict_short_answer(example):    \n",
    "    input_ids = t5_tok(example['question_text'], return_tensors=\"pt\").input_ids\n",
    "    gen_output = t5_qa_model.generate(input_ids)[0]\n",
    "    prediction = t5_tok.decode(gen_output, skip_special_tokens=True)\n",
    "        \n",
    "    return score_short_answer(prediction, example)\n",
    "\n",
    "predict_short_answer(dev_df.iloc[100])\n",
    "    "
   ]
  },
  {
   "cell_type": "code",
   "execution_count": 20,
   "id": "c3eb416c-8073-47dc-b754-09b776ee7923",
   "metadata": {},
   "outputs": [],
   "source": [
    "def score_short_answers(examples, nrows):\n",
    "    \n",
    "    correct, total, num_skipped = 0, 0, 0\n",
    "    \n",
    "    for i in range(nrows):\n",
    "        if i % 30 == 0:\n",
    "            print(i)\n",
    "        \n",
    "        example = examples.iloc[i]\n",
    "        if not has_short_answer(example['annotations']):\n",
    "            num_skipped += 1\n",
    "            continue\n",
    "        \n",
    "        result = predict_short_answer(example)\n",
    "        total += 1\n",
    "        correct += result\n",
    "    try:\n",
    "        accuracy = round(correct/total, 4)\n",
    "    except Exception:\n",
    "        accuracy = None\n",
    "    \n",
    "    print(f\"total: {total} correct: {correct} EM: {accuracy}, num_skipped: {num_skipped}\")\n",
    "            "
   ]
  },
  {
   "cell_type": "code",
   "execution_count": 21,
   "id": "59b8b767-7c16-4db7-b61f-6c6f2a788f1a",
   "metadata": {},
   "outputs": [
    {
     "name": "stdout",
     "output_type": "stream",
     "text": [
      "0\n",
      "30\n",
      "60\n",
      "90\n",
      "120\n",
      "150\n",
      "180\n",
      "210\n",
      "240\n",
      "270\n",
      "300\n",
      "330\n",
      "360\n",
      "390\n",
      "420\n",
      "450\n",
      "480\n",
      "510\n",
      "540\n",
      "570\n",
      "600\n",
      "630\n",
      "660\n",
      "690\n",
      "720\n",
      "750\n",
      "780\n",
      "810\n",
      "840\n",
      "870\n",
      "900\n",
      "930\n",
      "960\n",
      "990\n",
      "1020\n",
      "1050\n",
      "1080\n",
      "1110\n",
      "1140\n",
      "1170\n",
      "1200\n",
      "1230\n",
      "1260\n",
      "1290\n",
      "1320\n",
      "1350\n",
      "1380\n",
      "1410\n",
      "1440\n",
      "1470\n",
      "1500\n",
      "1530\n",
      "1560\n",
      "1590\n",
      "1620\n",
      "1650\n",
      "1680\n",
      "1710\n",
      "1740\n",
      "1770\n",
      "1800\n",
      "1830\n",
      "1860\n",
      "1890\n",
      "1920\n",
      "1950\n",
      "1980\n",
      "total: 834 correct: 241 EM: 0.289, num_skipped: 1166\n"
     ]
    }
   ],
   "source": [
    "tracker = []\n",
    "score_short_answers(dev_df, 2000)\n",
    "\n"
   ]
  },
  {
   "cell_type": "code",
   "execution_count": 22,
   "id": "90284230-3cbc-4dff-bb8c-018f935d9a80",
   "metadata": {},
   "outputs": [],
   "source": [
    "df = pd.DataFrame(tracker)\n",
    "\n",
    "df.to_csv(\"results.csv\", index=False)\n"
   ]
  },
  {
   "cell_type": "code",
   "execution_count": 28,
   "id": "ec7a1de1-444e-4e99-986d-800313891291",
   "metadata": {},
   "outputs": [],
   "source": [
    "test = tracker[0:100]"
   ]
  },
  {
   "cell_type": "code",
   "execution_count": 30,
   "id": "bf969af2-d080-406e-be22-b10e7db172ac",
   "metadata": {},
   "outputs": [
    {
     "data": {
      "text/plain": [
       "{'annotated_answers': [['coldplay with special guest performers beyoncé and bruno mars'],\n",
       "  ['coldplay', 'beyoncé', 'bruno mars'],\n",
       "  [],\n",
       "  ['british rock group coldplay with special guest performers beyoncé and bruno mars'],\n",
       "  ['coldplay', 'beyoncé', 'bruno mars']],\n",
       " 'prediction': 'Justin Timberlake',\n",
       " 'exact_match': False,\n",
       " 'question': 'who is playing the halftime show at super bowl 2016',\n",
       " 'document_url': 'https://en.wikipedia.org//w/index.php?title=Super_Bowl_50_halftime_show&amp;oldid=823813276'}"
      ]
     },
     "execution_count": 30,
     "metadata": {},
     "output_type": "execute_result"
    }
   ],
   "source": [
    "tracker[2]"
   ]
  },
  {
   "cell_type": "code",
   "execution_count": 44,
   "id": "2031695d-8cde-45df-8c08-570eb531949a",
   "metadata": {},
   "outputs": [],
   "source": [
    "refs = []\n",
    "cands = []\n",
    "for example in test:\n",
    "    ref = []\n",
    "    for answer in example['annotated_answers']:\n",
    "        if answer:\n",
    "            ref.append(answer[0])\n",
    "    refs.append(ref)\n",
    "    cands.append(normalize_answer(example['prediction']))\n",
    "    "
   ]
  },
  {
   "cell_type": "code",
   "execution_count": 46,
   "id": "893e4537-b7f5-40c1-b41a-efa8d3c6ffb0",
   "metadata": {},
   "outputs": [
    {
     "name": "stderr",
     "output_type": "stream",
     "text": [
      "Some weights of the model checkpoint at roberta-large were not used when initializing RobertaModel: ['lm_head.dense.weight', 'lm_head.bias', 'lm_head.layer_norm.weight', 'lm_head.layer_norm.bias', 'lm_head.decoder.weight', 'lm_head.dense.bias']\n",
      "- This IS expected if you are initializing RobertaModel from the checkpoint of a model trained on another task or with another architecture (e.g. initializing a BertForSequenceClassification model from a BertForPreTraining model).\n",
      "- This IS NOT expected if you are initializing RobertaModel from the checkpoint of a model that you expect to be exactly identical (initializing a BertForSequenceClassification model from a BertForSequenceClassification model).\n"
     ]
    },
    {
     "name": "stdout",
     "output_type": "stream",
     "text": [
      "calculating scores...\n",
      "computing bert embedding.\n",
      "huggingface/tokenizers: The current process just got forked, after parallelism has already been used. Disabling parallelism to avoid deadlocks...\n",
      "To disable this warning, you can either:\n",
      "\t- Avoid using `tokenizers` before the fork if possible\n",
      "\t- Explicitly set the environment variable TOKENIZERS_PARALLELISM=(true | false)\n"
     ]
    },
    {
     "data": {
      "application/vnd.jupyter.widget-view+json": {
       "model_id": "04deea3bfed143caa1fb03669920fe02",
       "version_major": 2,
       "version_minor": 0
      },
      "text/plain": [
       "  0%|          | 0/4 [00:00<?, ?it/s]"
      ]
     },
     "metadata": {},
     "output_type": "display_data"
    },
    {
     "name": "stdout",
     "output_type": "stream",
     "text": [
      "computing greedy matching.\n"
     ]
    },
    {
     "data": {
      "application/vnd.jupyter.widget-view+json": {
       "model_id": "ee5d80f0f1784aae96bd613a78281719",
       "version_major": 2,
       "version_minor": 0
      },
      "text/plain": [
       "  0%|          | 0/5 [00:00<?, ?it/s]"
      ]
     },
     "metadata": {},
     "output_type": "display_data"
    },
    {
     "name": "stdout",
     "output_type": "stream",
     "text": [
      "done in 37.81 seconds, 8.33 sentences/sec\n"
     ]
    }
   ],
   "source": [
    "from bert_score import score\n",
    "\n",
    "results = score(cands, refs, lang='en', verbose=True, rescale_with_baseline=True)"
   ]
  },
  {
   "cell_type": "code",
   "execution_count": 48,
   "id": "55e948e8-8367-4c48-9536-8e1e034ecab9",
   "metadata": {},
   "outputs": [
    {
     "data": {
      "text/plain": [
       "(tensor([ 0.1212,  1.0000, -0.1675,  0.6930,  1.0000,  0.2203, -0.0268,  1.0000,\n",
       "          0.0264,  0.9282,  0.1080,  1.0000,  0.8889,  1.0000,  0.2395,  0.6471,\n",
       "          0.4463,  0.0262,  0.7499, -0.0270, -0.2745,  0.1586, -0.1735,  0.3625,\n",
       "          0.1752, -0.1914,  1.0000,  1.0000,  0.5120,  0.1038,  0.7234,  0.1936,\n",
       "          1.0000,  0.3189,  0.5127,  0.2742,  0.3217,  0.2758, -0.5421,  0.4419,\n",
       "          1.0000,  0.6730,  1.0000,  0.8005,  1.0000, -0.0690, -0.1159,  0.1562,\n",
       "          1.0000,  0.2088, -0.0939,  1.0000,  0.3590,  0.1684,  1.0000,  1.0000,\n",
       "         -0.0313, -0.0774, -0.4675,  0.7390,  0.2593,  0.1652,  0.5723,  0.1990,\n",
       "          0.3517,  0.2192,  1.0000,  0.2936,  1.0000,  0.2342, -0.0060,  0.1758,\n",
       "          1.0000,  0.5013,  0.4530,  0.0358,  0.7662,  1.0000,  0.1979,  0.2929,\n",
       "          0.3777,  1.0000,  1.0000,  0.7735,  0.2589, -0.1773,  0.4575,  0.3450,\n",
       "          0.2314,  0.1356,  0.0528,  0.9031,  0.2687,  0.1796,  0.6415,  0.0408,\n",
       "          1.0000, -0.0110,  1.0000,  0.1136]),\n",
       " tensor([ 9.8390e-02,  1.0000e+00,  7.9681e-02,  2.6057e-01,  1.0000e+00,\n",
       "          1.3283e-01,  6.7815e-02,  1.0000e+00, -8.8985e-02,  8.1472e-01,\n",
       "         -4.7215e-03,  1.0000e+00,  8.8892e-01,  1.0000e+00,  9.1688e-02,\n",
       "          4.9209e-01,  9.1947e-02, -6.5154e-02,  7.5552e-01,  1.3402e-01,\n",
       "          3.9526e-02, -1.5806e-01, -2.0140e-01,  4.8688e-01,  4.0613e-01,\n",
       "          1.9533e-01,  1.0000e+00,  1.0000e+00,  5.7444e-01, -3.5521e-02,\n",
       "          2.9726e-01,  3.4447e-02,  1.0000e+00,  3.5691e-01,  5.4699e-01,\n",
       "          3.6537e-01,  5.0884e-02, -1.6120e-01, -4.2224e-01,  4.4196e-01,\n",
       "          1.0000e+00,  4.7718e-01,  1.0000e+00,  8.0056e-01,  1.0000e+00,\n",
       "         -4.7139e-01, -3.2202e-02,  2.4574e-02,  1.0000e+00, -3.4818e-02,\n",
       "          3.5196e-01,  1.0000e+00,  4.1649e-01,  2.0177e-01,  1.0000e+00,\n",
       "          1.0000e+00,  1.2232e-01, -1.8975e-01, -2.8337e-01,  7.3897e-01,\n",
       "         -1.2809e-01,  1.1033e-01,  4.9662e-01,  2.2111e-01,  2.8287e-01,\n",
       "          1.9224e-01,  1.0000e+00,  2.7815e-01,  1.0000e+00, -9.6797e-02,\n",
       "         -2.1111e-01,  3.3208e-01,  1.0000e+00,  2.6125e-01,  3.5069e-01,\n",
       "         -1.2350e-01,  7.6623e-01,  1.0000e+00,  2.7662e-01,  1.8341e-01,\n",
       "          1.4881e-01,  1.0000e+00,  1.0000e+00,  7.7352e-01, -6.0382e-02,\n",
       "         -7.1543e-02,  5.4110e-01,  2.2896e-01, -9.4560e-02, -1.5475e-01,\n",
       "         -1.5288e-02,  9.0308e-01,  4.1069e-01,  1.1307e-01,  6.4150e-01,\n",
       "          8.1357e-04,  1.0000e+00,  5.5460e-03,  1.0000e+00, -2.6434e-01]),\n",
       " tensor([ 0.0551,  1.0000, -0.0597,  0.4690,  1.0000,  0.1775,  0.0217,  1.0000,\n",
       "         -0.0307,  0.8342,  0.0526,  1.0000,  0.8891,  1.0000,  0.1176,  0.5692,\n",
       "          0.2643, -0.0182,  0.7531,  0.0538, -0.1208, -0.0032, -0.1856,  0.4249,\n",
       "          0.2625, -0.0040,  1.0000,  1.0000,  0.5438,  0.0343,  0.5028,  0.1142,\n",
       "          1.0000,  0.3389,  0.5306,  0.3205,  0.1840,  0.0493, -0.4805,  0.4428,\n",
       "          1.0000,  0.5740,  1.0000,  0.8009,  1.0000, -0.2768, -0.0726,  0.0910,\n",
       "          1.0000,  0.0855,  0.1207,  1.0000,  0.3451,  0.1864,  1.0000,  1.0000,\n",
       "          0.0459, -0.1324, -0.3751,  0.7394,  0.0596,  0.1390,  0.5350,  0.2113,\n",
       "          0.3182,  0.1541,  1.0000,  0.2870,  1.0000,  0.0647, -0.1089,  0.2540,\n",
       "          1.0000,  0.3796,  0.4023, -0.0434,  0.7666,  1.0000,  0.2382,  0.2388,\n",
       "          0.2375,  1.0000,  1.0000,  0.7739,  0.0957, -0.1307,  0.4998,  0.2875,\n",
       "          0.0646, -0.0122,  0.0201,  0.9032,  0.3398,  0.1475,  0.6421,  0.0116,\n",
       "          1.0000, -0.0011,  1.0000, -0.0810]))"
      ]
     },
     "execution_count": 48,
     "metadata": {},
     "output_type": "execute_result"
    }
   ],
   "source": [
    "results"
   ]
  },
  {
   "cell_type": "code",
   "execution_count": 49,
   "id": "9c9d35dc-9bee-46aa-afad-3032fb59c6f6",
   "metadata": {},
   "outputs": [],
   "source": [
    "P, R, F1 = results"
   ]
  },
  {
   "cell_type": "code",
   "execution_count": 59,
   "id": "10cbfb05-fac3-4035-9f95-afb01a16b285",
   "metadata": {},
   "outputs": [
    {
     "data": {
      "text/plain": [
       "tensor(0.3993)"
      ]
     },
     "execution_count": 59,
     "metadata": {},
     "output_type": "execute_result"
    }
   ],
   "source": [
    "sum(F1) / len(F1)"
   ]
  },
  {
   "cell_type": "code",
   "execution_count": 56,
   "id": "123b590e-25d0-4f69-9987-265a06ce768b",
   "metadata": {},
   "outputs": [],
   "source": [
    "refs_fake = []\n",
    "cands_fake = []\n",
    "for i in range(len(test)):\n",
    "    example = test[i]\n",
    "    prev_example = test[i-1]\n",
    "    ref = []\n",
    "    for answer in example['annotated_answers']:\n",
    "        if answer:\n",
    "            ref.append(answer[0])\n",
    "    refs_fake.append(ref)\n",
    "    cands_fake.append(normalize_answer(prev_example['prediction']))\n",
    "    "
   ]
  },
  {
   "cell_type": "code",
   "execution_count": 57,
   "id": "d7fc4e17-3f8a-4302-8b2d-4db946f5574a",
   "metadata": {},
   "outputs": [
    {
     "name": "stderr",
     "output_type": "stream",
     "text": [
      "Some weights of the model checkpoint at roberta-large were not used when initializing RobertaModel: ['lm_head.dense.weight', 'lm_head.bias', 'lm_head.layer_norm.weight', 'lm_head.layer_norm.bias', 'lm_head.decoder.weight', 'lm_head.dense.bias']\n",
      "- This IS expected if you are initializing RobertaModel from the checkpoint of a model trained on another task or with another architecture (e.g. initializing a BertForSequenceClassification model from a BertForPreTraining model).\n",
      "- This IS NOT expected if you are initializing RobertaModel from the checkpoint of a model that you expect to be exactly identical (initializing a BertForSequenceClassification model from a BertForSequenceClassification model).\n"
     ]
    },
    {
     "name": "stdout",
     "output_type": "stream",
     "text": [
      "calculating scores...\n",
      "computing bert embedding.\n"
     ]
    },
    {
     "data": {
      "application/vnd.jupyter.widget-view+json": {
       "model_id": "89d3bafd1f14414ebd2940cf6bd141a1",
       "version_major": 2,
       "version_minor": 0
      },
      "text/plain": [
       "  0%|          | 0/4 [00:00<?, ?it/s]"
      ]
     },
     "metadata": {},
     "output_type": "display_data"
    },
    {
     "name": "stdout",
     "output_type": "stream",
     "text": [
      "computing greedy matching.\n"
     ]
    },
    {
     "data": {
      "application/vnd.jupyter.widget-view+json": {
       "model_id": "f4ec6765e8aa4cd19f57689b1caecf31",
       "version_major": 2,
       "version_minor": 0
      },
      "text/plain": [
       "  0%|          | 0/5 [00:00<?, ?it/s]"
      ]
     },
     "metadata": {},
     "output_type": "display_data"
    },
    {
     "name": "stdout",
     "output_type": "stream",
     "text": [
      "done in 37.75 seconds, 8.34 sentences/sec\n"
     ]
    }
   ],
   "source": [
    "fake_results = score(cands_fake, refs_fake, lang='en', verbose=True, rescale_with_baseline=True)"
   ]
  },
  {
   "cell_type": "code",
   "execution_count": 62,
   "id": "dead00c1-1734-4e1f-a0e1-0507489435a2",
   "metadata": {},
   "outputs": [
    {
     "data": {
      "text/plain": [
       "tensor(-0.0216)"
      ]
     },
     "execution_count": 62,
     "metadata": {},
     "output_type": "execute_result"
    }
   ],
   "source": [
    "sum(fake_results[0]) / len(fake_results[0])"
   ]
  },
  {
   "cell_type": "code",
   "execution_count": null,
   "id": "eda21d75-4d73-4e44-8d0f-3b4ffe762c80",
   "metadata": {},
   "outputs": [],
   "source": []
  }
 ],
 "metadata": {
  "kernelspec": {
   "display_name": "odqa-experiments",
   "language": "python",
   "name": "odqa-experiments"
  },
  "language_info": {
   "codemirror_mode": {
    "name": "ipython",
    "version": 3
   },
   "file_extension": ".py",
   "mimetype": "text/x-python",
   "name": "python",
   "nbconvert_exporter": "python",
   "pygments_lexer": "ipython3",
   "version": "3.9.7"
  }
 },
 "nbformat": 4,
 "nbformat_minor": 5
}
