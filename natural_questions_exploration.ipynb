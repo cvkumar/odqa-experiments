{
 "cells": [
  {
   "cell_type": "code",
   "execution_count": 1,
   "id": "ed19abc8-0ba1-4df8-a707-4b4d02806174",
   "metadata": {},
   "outputs": [],
   "source": [
    "import pandas as pd"
   ]
  },
  {
   "cell_type": "code",
   "execution_count": 2,
   "id": "57012911-2019-4e57-aa72-a79cffc4a9fc",
   "metadata": {},
   "outputs": [],
   "source": [
    "import simplejson\n",
    "pd.io.json._json.loads = lambda s, *a, **kw: simplejson.loads(s)"
   ]
  },
  {
   "cell_type": "code",
   "execution_count": 3,
   "id": "d8e876a3-3bf8-4399-80bb-f98035ebadaf",
   "metadata": {},
   "outputs": [],
   "source": [
    "df = pd.read_json(\"data/natural_question/v1.0-simplified_simplified-nq-train.jsonl\", lines=True, nrows=100)"
   ]
  },
  {
   "cell_type": "code",
   "execution_count": 4,
   "id": "476320d8-0b4e-434e-ae65-7a4d6081e7fb",
   "metadata": {},
   "outputs": [
    {
     "data": {
      "text/html": [
       "<div>\n",
       "<style scoped>\n",
       "    .dataframe tbody tr th:only-of-type {\n",
       "        vertical-align: middle;\n",
       "    }\n",
       "\n",
       "    .dataframe tbody tr th {\n",
       "        vertical-align: top;\n",
       "    }\n",
       "\n",
       "    .dataframe thead th {\n",
       "        text-align: right;\n",
       "    }\n",
       "</style>\n",
       "<table border=\"1\" class=\"dataframe\">\n",
       "  <thead>\n",
       "    <tr style=\"text-align: right;\">\n",
       "      <th></th>\n",
       "      <th>document_text</th>\n",
       "      <th>long_answer_candidates</th>\n",
       "      <th>question_text</th>\n",
       "      <th>annotations</th>\n",
       "      <th>document_url</th>\n",
       "      <th>example_id</th>\n",
       "    </tr>\n",
       "  </thead>\n",
       "  <tbody>\n",
       "    <tr>\n",
       "      <th>0</th>\n",
       "      <td>Email marketing - Wikipedia &lt;H1&gt; Email marketi...</td>\n",
       "      <td>[{'start_token': 14, 'top_level': True, 'end_t...</td>\n",
       "      <td>which is the most common use of opt-in e-mail ...</td>\n",
       "      <td>[{'yes_no_answer': 'NONE', 'long_answer': {'st...</td>\n",
       "      <td>https://en.wikipedia.org//w/index.php?title=Em...</td>\n",
       "      <td>5655493461695504401</td>\n",
       "    </tr>\n",
       "    <tr>\n",
       "      <th>1</th>\n",
       "      <td>The Mother ( How I Met Your Mother ) - wikiped...</td>\n",
       "      <td>[{'start_token': 28, 'top_level': True, 'end_t...</td>\n",
       "      <td>how i.met your mother who is the mother</td>\n",
       "      <td>[{'yes_no_answer': 'NONE', 'long_answer': {'st...</td>\n",
       "      <td>https://en.wikipedia.org//w/index.php?title=Th...</td>\n",
       "      <td>5328212470870865242</td>\n",
       "    </tr>\n",
       "    <tr>\n",
       "      <th>2</th>\n",
       "      <td>Human fertilization - wikipedia &lt;H1&gt; Human fer...</td>\n",
       "      <td>[{'start_token': 14, 'top_level': True, 'end_t...</td>\n",
       "      <td>what type of fertilisation takes place in humans</td>\n",
       "      <td>[{'yes_no_answer': 'NONE', 'long_answer': {'st...</td>\n",
       "      <td>https://en.wikipedia.org//w/index.php?title=Hu...</td>\n",
       "      <td>4435104480114867852</td>\n",
       "    </tr>\n",
       "    <tr>\n",
       "      <th>3</th>\n",
       "      <td>List of National Football League career quarte...</td>\n",
       "      <td>[{'start_token': 28, 'top_level': True, 'end_t...</td>\n",
       "      <td>who had the most wins in the nfl</td>\n",
       "      <td>[{'yes_no_answer': 'NONE', 'long_answer': {'st...</td>\n",
       "      <td>https://en.wikipedia.org//w/index.php?title=Li...</td>\n",
       "      <td>5289242154789678439</td>\n",
       "    </tr>\n",
       "    <tr>\n",
       "      <th>4</th>\n",
       "      <td>Roanoke Colony - wikipedia &lt;H1&gt; Roanoke Colony...</td>\n",
       "      <td>[{'start_token': 32, 'top_level': True, 'end_t...</td>\n",
       "      <td>what happened to the lost settlement of roanoke</td>\n",
       "      <td>[{'yes_no_answer': 'NONE', 'long_answer': {'st...</td>\n",
       "      <td>https://en.wikipedia.org//w/index.php?title=Ro...</td>\n",
       "      <td>5489863933082811018</td>\n",
       "    </tr>\n",
       "  </tbody>\n",
       "</table>\n",
       "</div>"
      ],
      "text/plain": [
       "                                       document_text  \\\n",
       "0  Email marketing - Wikipedia <H1> Email marketi...   \n",
       "1  The Mother ( How I Met Your Mother ) - wikiped...   \n",
       "2  Human fertilization - wikipedia <H1> Human fer...   \n",
       "3  List of National Football League career quarte...   \n",
       "4  Roanoke Colony - wikipedia <H1> Roanoke Colony...   \n",
       "\n",
       "                              long_answer_candidates  \\\n",
       "0  [{'start_token': 14, 'top_level': True, 'end_t...   \n",
       "1  [{'start_token': 28, 'top_level': True, 'end_t...   \n",
       "2  [{'start_token': 14, 'top_level': True, 'end_t...   \n",
       "3  [{'start_token': 28, 'top_level': True, 'end_t...   \n",
       "4  [{'start_token': 32, 'top_level': True, 'end_t...   \n",
       "\n",
       "                                       question_text  \\\n",
       "0  which is the most common use of opt-in e-mail ...   \n",
       "1            how i.met your mother who is the mother   \n",
       "2   what type of fertilisation takes place in humans   \n",
       "3                   who had the most wins in the nfl   \n",
       "4    what happened to the lost settlement of roanoke   \n",
       "\n",
       "                                         annotations  \\\n",
       "0  [{'yes_no_answer': 'NONE', 'long_answer': {'st...   \n",
       "1  [{'yes_no_answer': 'NONE', 'long_answer': {'st...   \n",
       "2  [{'yes_no_answer': 'NONE', 'long_answer': {'st...   \n",
       "3  [{'yes_no_answer': 'NONE', 'long_answer': {'st...   \n",
       "4  [{'yes_no_answer': 'NONE', 'long_answer': {'st...   \n",
       "\n",
       "                                        document_url           example_id  \n",
       "0  https://en.wikipedia.org//w/index.php?title=Em...  5655493461695504401  \n",
       "1  https://en.wikipedia.org//w/index.php?title=Th...  5328212470870865242  \n",
       "2  https://en.wikipedia.org//w/index.php?title=Hu...  4435104480114867852  \n",
       "3  https://en.wikipedia.org//w/index.php?title=Li...  5289242154789678439  \n",
       "4  https://en.wikipedia.org//w/index.php?title=Ro...  5489863933082811018  "
      ]
     },
     "execution_count": 4,
     "metadata": {},
     "output_type": "execute_result"
    }
   ],
   "source": [
    "df.head()"
   ]
  },
  {
   "cell_type": "code",
   "execution_count": 5,
   "id": "bb36f4e2-afb6-475b-a5e5-f26c2dcf0f19",
   "metadata": {},
   "outputs": [
    {
     "data": {
      "text/plain": [
       "'who had the most wins in the nfl'"
      ]
     },
     "execution_count": 5,
     "metadata": {},
     "output_type": "execute_result"
    }
   ],
   "source": [
    "df.iloc[3]['question_text']"
   ]
  },
  {
   "cell_type": "code",
   "execution_count": 6,
   "id": "f847face-1dd9-457b-ba7f-88b0c958a304",
   "metadata": {},
   "outputs": [
    {
     "data": {
      "text/plain": [
       "'who had the most wins in the nfl'"
      ]
     },
     "execution_count": 6,
     "metadata": {},
     "output_type": "execute_result"
    }
   ],
   "source": [
    "df.iloc[3]['question_text']"
   ]
  },
  {
   "cell_type": "code",
   "execution_count": 7,
   "id": "67c71365-12e2-4ad8-8847-f525c7c3dd6c",
   "metadata": {},
   "outputs": [
    {
     "data": {
      "text/plain": [
       "['Tom', 'Brady']"
      ]
     },
     "execution_count": 7,
     "metadata": {},
     "output_type": "execute_result"
    }
   ],
   "source": [
    "df.iloc[3]['document_text'].split(\" \")[512:514]"
   ]
  },
  {
   "cell_type": "code",
   "execution_count": 139,
   "id": "08145be1-0e9b-470a-98ee-131521f493b2",
   "metadata": {},
   "outputs": [],
   "source": [
    "dev_df = pd.read_json(\"data/natural_question/v1.0-simplified_nq-dev-all.jsonl\", lines=True, nrows=2000)"
   ]
  },
  {
   "cell_type": "code",
   "execution_count": 12,
   "id": "75161de7-a96f-4fa4-8cce-a0a44041b9d7",
   "metadata": {},
   "outputs": [],
   "source": [
    "# dev_df.head()"
   ]
  },
  {
   "cell_type": "code",
   "execution_count": 13,
   "id": "a1ae500c-2783-4452-aceb-b38547fe468e",
   "metadata": {},
   "outputs": [
    {
     "data": {
      "text/plain": [
       "'star wars the clone wars anakin voice actor'"
      ]
     },
     "execution_count": 13,
     "metadata": {},
     "output_type": "execute_result"
    }
   ],
   "source": [
    "dev_df.iloc[4]['question_text']"
   ]
  },
  {
   "cell_type": "code",
   "execution_count": 14,
   "id": "77b58c11-ac66-4252-a6c4-7e0894c7eb60",
   "metadata": {},
   "outputs": [],
   "source": [
    "# dev_df.iloc[4]['annotations'] # 173-179"
   ]
  },
  {
   "cell_type": "code",
   "execution_count": 15,
   "id": "e87a063f-6551-4876-95eb-ef754ff80dcd",
   "metadata": {},
   "outputs": [
    {
     "data": {
      "text/plain": [
       "annotations               [{'annotation_id': 9697565976974065308, 'long_...\n",
       "document_html             <!DOCTYPE html>\\n<HTML class=\"client-js ve-not...\n",
       "document_title                                                  Matt Lanter\n",
       "document_tokens           [{'end_byte': 96, 'html_token': False, 'start_...\n",
       "document_url              https://en.wikipedia.org//w/index.php?title=Ma...\n",
       "example_id                                              8494342737238168262\n",
       "long_answer_candidates    [{'end_byte': 57654, 'end_token': 79, 'start_b...\n",
       "question_text                   star wars the clone wars anakin voice actor\n",
       "question_tokens           [star, wars, the, clone, wars, anakin, voice, ...\n",
       "Name: 4, dtype: object"
      ]
     },
     "execution_count": 15,
     "metadata": {},
     "output_type": "execute_result"
    }
   ],
   "source": [
    "dev_df.iloc[4]"
   ]
  },
  {
   "cell_type": "code",
   "execution_count": 19,
   "id": "dd2732ac-cf7f-4787-ae29-c632ed207425",
   "metadata": {},
   "outputs": [
    {
     "name": "stdout",
     "output_type": "stream",
     "text": [
      "Collecting protobuf\n",
      "  Downloading protobuf-3.19.4-cp38-cp38-macosx_10_9_x86_64.whl (961 kB)\n",
      "\u001b[K     |████████████████████████████████| 961 kB 1.5 MB/s eta 0:00:01\n",
      "\u001b[?25hInstalling collected packages: protobuf\n",
      "Successfully installed protobuf-3.19.4\n"
     ]
    }
   ],
   "source": [
    "!pip install protobuf\n",
    "# !pip install sentencepiece"
   ]
  },
  {
   "cell_type": "code",
   "execution_count": 49,
   "id": "72c942e0-48cf-4ad8-92d7-c0a64abb8fb7",
   "metadata": {},
   "outputs": [
    {
     "data": {
      "text/plain": [
       "{'annotation_id': 5834450600727459786,\n",
       " 'long_answer': {'candidate_index': 22,\n",
       "  'end_byte': 197000,\n",
       "  'end_token': 8433,\n",
       "  'start_byte': 16013,\n",
       "  'start_token': 684},\n",
       " 'short_answers': [{'end_byte': 133179,\n",
       "   'end_token': 5612,\n",
       "   'start_byte': 133173,\n",
       "   'start_token': 5611}],\n",
       " 'yes_no_answer': 'NONE'}"
      ]
     },
     "execution_count": 49,
     "metadata": {},
     "output_type": "execute_result"
    }
   ],
   "source": [
    "dev_df.iloc[150]['annotations'][1]\n"
   ]
  },
  {
   "cell_type": "code",
   "execution_count": 21,
   "id": "f65545ea-e16c-4c46-aade-26da95ca33eb",
   "metadata": {},
   "outputs": [],
   "source": [
    "from transformers import AutoModelForSeq2SeqLM, AutoTokenizer\n",
    "\n",
    "t5_qa_model = AutoModelForSeq2SeqLM.from_pretrained(\"google/t5-large-ssm-nq\")\n",
    "t5_tok = AutoTokenizer.from_pretrained(\"google/t5-large-ssm-nq\")\n"
   ]
  },
  {
   "cell_type": "code",
   "execution_count": 29,
   "id": "6f9f0b89-cf5d-45e0-bdd6-f44e1a445a8d",
   "metadata": {},
   "outputs": [
    {
     "name": "stdout",
     "output_type": "stream",
     "text": [
      "December 26, 1892\n"
     ]
    }
   ],
   "source": [
    "input_ids = t5_tok(\"When was Franklin D. Roosevelt born?\", return_tensors=\"pt\").input_ids\n",
    "gen_output = t5_qa_model.generate(input_ids)[0]\n",
    "\n",
    "print(t5_tok.decode(gen_output, skip_special_tokens=True))"
   ]
  },
  {
   "cell_type": "code",
   "execution_count": 54,
   "id": "c8f34721-6b71-412f-9a8d-e4c35b3e61ee",
   "metadata": {},
   "outputs": [
    {
     "name": "stdout",
     "output_type": "stream",
     "text": [
      "4\n"
     ]
    }
   ],
   "source": [
    "input_ids = t5_tok(\"Is 2+2=4?\", return_tensors=\"pt\").input_ids\n",
    "gen_output = t5_qa_model.generate(input_ids)[0]\n",
    "\n",
    "print(t5_tok.decode(gen_output, skip_special_tokens=True))"
   ]
  },
  {
   "cell_type": "code",
   "execution_count": 165,
   "id": "c9aaf90a-b1df-4845-8ed3-3bc055e9d264",
   "metadata": {},
   "outputs": [
    {
     "data": {
      "text/plain": [
       "annotations               [{'annotation_id': 18296758491112774267, 'long...\n",
       "document_html             <!DOCTYPE html>\\n<HTML class=\"client-js ve-not...\n",
       "document_title                                              F Is for Family\n",
       "document_tokens           [{'end_byte': 93, 'html_token': False, 'start_...\n",
       "document_url              https://en.wikipedia.org//w/index.php?title=F_...\n",
       "example_id                                             -2704708103393811482\n",
       "long_answer_candidates    [{'end_byte': 60750, 'end_token': 344, 'start_...\n",
       "question_text                           who voices randy in f is for family\n",
       "question_tokens                [who, voices, randy, in, f, is, for, family]\n",
       "Name: 100, dtype: object"
      ]
     },
     "execution_count": 165,
     "metadata": {},
     "output_type": "execute_result"
    }
   ],
   "source": [
    "dev_df.iloc[100]"
   ]
  },
  {
   "cell_type": "code",
   "execution_count": 180,
   "id": "bd7a4852-a39f-4279-baa6-172ead7d8ebe",
   "metadata": {},
   "outputs": [
    {
     "data": {
      "text/plain": [
       "'star wars the clone wars anakin voice actor'"
      ]
     },
     "execution_count": 180,
     "metadata": {},
     "output_type": "execute_result"
    }
   ],
   "source": [
    "dev_df.iloc[4]['question_text']\n",
    "\n",
    "# ' '.join([token['token'] for token in dev_df.iloc[100]['document_tokens'][1110:1112]])"
   ]
  },
  {
   "cell_type": "code",
   "execution_count": null,
   "id": "67ed316e-6514-4db4-9c8a-ad5e8001e796",
   "metadata": {},
   "outputs": [],
   "source": [
    "short_answer_string()"
   ]
  },
  {
   "cell_type": "code",
   "execution_count": 186,
   "id": "46028977-0186-4bcb-ab84-6e63a5d2ebd3",
   "metadata": {},
   "outputs": [
    {
     "data": {
      "text/plain": [
       "1"
      ]
     },
     "execution_count": 186,
     "metadata": {},
     "output_type": "execute_result"
    }
   ],
   "source": [
    "tracker = []\n",
    "\n",
    "def has_short_answer(annotations: list):\n",
    "    if annotations:\n",
    "        return sum([len(annotation['short_answers']) > 0 for annotation in annotations]) > 1\n",
    "    else:\n",
    "        False\n",
    "\n",
    "def short_answer_string(sa_annotation, example):\n",
    "    start_token = sa_annotation['start_token']\n",
    "    end_token = sa_annotation['end_token']\n",
    "    token_dicts = example['document_tokens'][start_token:end_token]\n",
    "    return ' '.join([token_dict['token'] for token_dict in token_dicts])\n",
    "        \n",
    "def score_short_answer(prediction: str, example: dict):\n",
    "    annotations = example['annotations']\n",
    "    \n",
    "    tracker_sa = []\n",
    "    for annotation in annotations:\n",
    "        short_answers = annotation['short_answers']\n",
    "    \n",
    "        exact_match = any([short_answer_string(answer, example).lower() == prediction.lower() for answer in short_answers])\n",
    "        tracker_sa.append([short_answer_string(answer, example) for answer in short_answers])\n",
    "            \n",
    "        if exact_match:\n",
    "            break\n",
    "    \n",
    "    tracker.append({\n",
    "        \"annotated_answers\": tracker_sa,\n",
    "        \"prediction\": prediction,\n",
    "        \"exact_match\": exact_match,\n",
    "        \"question\": example[\"question_text\"],\n",
    "        \"document_url\": example[\"document_url\"]\n",
    "       })\n",
    "    \n",
    "    if exact_match:\n",
    "        return 1\n",
    "    else:\n",
    "        return 0\n",
    "\n",
    "score_short_answer('T.j. miller', dev_df.iloc[100])\n",
    "    \n",
    "    "
   ]
  },
  {
   "cell_type": "code",
   "execution_count": 187,
   "id": "5ff3019b-5542-45a5-aa61-a217226af0ba",
   "metadata": {},
   "outputs": [
    {
     "data": {
      "text/plain": [
       "1"
      ]
     },
     "execution_count": 187,
     "metadata": {},
     "output_type": "execute_result"
    }
   ],
   "source": [
    "def predict_short_answer(example):    \n",
    "    input_ids = t5_tok(example['question_text'], return_tensors=\"pt\").input_ids\n",
    "    gen_output = t5_qa_model.generate(input_ids)[0]\n",
    "    prediction = t5_tok.decode(gen_output, skip_special_tokens=True)\n",
    "        \n",
    "    return score_short_answer(prediction, example)\n",
    "\n",
    "predict_short_answer(dev_df.iloc[100])\n",
    "    "
   ]
  },
  {
   "cell_type": "code",
   "execution_count": 188,
   "id": "c3eb416c-8073-47dc-b754-09b776ee7923",
   "metadata": {},
   "outputs": [],
   "source": [
    "def score_short_answers(examples, nrows):\n",
    "    \n",
    "    correct, total, num_skipped = 0, 0, 0\n",
    "    \n",
    "    for i in range(nrows):\n",
    "        if i % 30 == 0:\n",
    "            print(i)\n",
    "        \n",
    "        example = examples.iloc[i]\n",
    "        if not has_short_answer(example['annotations']):\n",
    "            num_skipped += 1\n",
    "            continue\n",
    "        \n",
    "        result = predict_short_answer(example)\n",
    "        total += 1\n",
    "        correct += result\n",
    "    try:\n",
    "        accuracy = round(correct/total, 4)\n",
    "    except Exception:\n",
    "        accuracy = None\n",
    "    \n",
    "    print(f\"total: {total} correct: {correct} EM: {accuracy}, num_skipped: {num_skipped}\")\n",
    "            "
   ]
  },
  {
   "cell_type": "code",
   "execution_count": 189,
   "id": "59b8b767-7c16-4db7-b61f-6c6f2a788f1a",
   "metadata": {},
   "outputs": [
    {
     "name": "stdout",
     "output_type": "stream",
     "text": [
      "0\n",
      "30\n",
      "60\n",
      "90\n",
      "120\n",
      "150\n",
      "180\n",
      "210\n",
      "240\n",
      "270\n",
      "300\n",
      "330\n",
      "360\n",
      "390\n",
      "420\n",
      "450\n",
      "480\n",
      "510\n",
      "540\n",
      "570\n",
      "600\n",
      "630\n",
      "660\n",
      "690\n",
      "720\n",
      "750\n",
      "780\n",
      "810\n",
      "840\n",
      "870\n",
      "900\n",
      "930\n",
      "960\n",
      "990\n",
      "1020\n",
      "1050\n",
      "1080\n",
      "1110\n",
      "1140\n",
      "1170\n",
      "1200\n",
      "1230\n",
      "1260\n",
      "1290\n",
      "1320\n",
      "1350\n",
      "1380\n",
      "1410\n",
      "1440\n",
      "1470\n",
      "1500\n",
      "1530\n",
      "1560\n",
      "1590\n",
      "1620\n",
      "1650\n",
      "1680\n",
      "1710\n",
      "1740\n",
      "1770\n",
      "1800\n",
      "1830\n",
      "1860\n",
      "1890\n",
      "1920\n",
      "1950\n",
      "1980\n",
      "total: 834 correct: 213 EM: 0.2554, num_skipped: 1166\n"
     ]
    }
   ],
   "source": [
    "tracker = []\n",
    "score_short_answers(dev_df, 2000)\n",
    "\n"
   ]
  },
  {
   "cell_type": "code",
   "execution_count": 190,
   "id": "90284230-3cbc-4dff-bb8c-018f935d9a80",
   "metadata": {},
   "outputs": [],
   "source": [
    "df = pd.DataFrame(tracker)\n",
    "\n",
    "df.to_csv(\"results.csv\", index=False)\n"
   ]
  },
  {
   "cell_type": "code",
   "execution_count": null,
   "id": "ec7a1de1-444e-4e99-986d-800313891291",
   "metadata": {},
   "outputs": [],
   "source": []
  }
 ],
 "metadata": {
  "kernelspec": {
   "display_name": "Python 3 (ipykernel)",
   "language": "python",
   "name": "python3"
  },
  "language_info": {
   "codemirror_mode": {
    "name": "ipython",
    "version": 3
   },
   "file_extension": ".py",
   "mimetype": "text/x-python",
   "name": "python",
   "nbconvert_exporter": "python",
   "pygments_lexer": "ipython3",
   "version": "3.8.12"
  }
 },
 "nbformat": 4,
 "nbformat_minor": 5
}
