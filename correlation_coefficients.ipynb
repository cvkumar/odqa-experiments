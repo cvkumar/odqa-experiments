{
 "cells": [
  {
   "cell_type": "code",
   "execution_count": 1,
   "id": "a96cad15-20f3-471e-b15e-31391653301f",
   "metadata": {},
   "outputs": [],
   "source": [
    "import numpy as np\n"
   ]
  },
  {
   "cell_type": "code",
   "execution_count": 12,
   "id": "0ca4466c-c864-4d81-bb03-2bd17569dc7c",
   "metadata": {},
   "outputs": [],
   "source": [
    "em_scores = [28.89,\t70.68,\t13.33,\t2.24,\n",
    "32.96,\t73.15,\t19.05,\t5.60,\n",
    "28.08,\t38.57,\t29.51,\t15.00,\n",
    "53.13,\t76.23,\t47.62,\t37.25,]"
   ]
  },
  {
   "cell_type": "code",
   "execution_count": 13,
   "id": "10cac7f7-13b3-4c64-86ea-653c7ac2da8a",
   "metadata": {},
   "outputs": [],
   "source": [
    "meteor_scores = [28.72,\t64.81, \t16.45,\t5.73,\n",
    "32.25,\t66.47,\t20.08,\t9.16,\n",
    "31.23,\t42.08,\t30.95,\t19.14,\n",
    "47.88,\t66.09,\t41.74,\t38.19,]"
   ]
  },
  {
   "cell_type": "code",
   "execution_count": 14,
   "id": "5dd78f92-076b-4a77-834b-0e7c8ff1519e",
   "metadata": {},
   "outputs": [],
   "source": [
    "bert_scores = [50.52,\t79.20,\t46.35,\t24.55,\n",
    "53.99,\t81.37,\t47.36,\t29.79,\n",
    "47.71,\t59.41,\t51.19,\t33.80,\n",
    "68.36,\t83.64,\t67.46,\t55.06]"
   ]
  },
  {
   "cell_type": "code",
   "execution_count": 15,
   "id": "ca1f86f1-1e3a-4ec0-b5a7-3c749aa69ea7",
   "metadata": {},
   "outputs": [
    {
     "data": {
      "text/plain": [
       "array([[1.        , 0.99464829],\n",
       "       [0.99464829, 1.        ]])"
      ]
     },
     "execution_count": 15,
     "metadata": {},
     "output_type": "execute_result"
    }
   ],
   "source": [
    "np.corrcoef(meteor_scores, em_scores)"
   ]
  },
  {
   "cell_type": "code",
   "execution_count": 16,
   "id": "dae76ada-32f7-4c9c-a493-8a0775233c36",
   "metadata": {},
   "outputs": [
    {
     "data": {
      "text/plain": [
       "array([[1.        , 0.97272004],\n",
       "       [0.97272004, 1.        ]])"
      ]
     },
     "execution_count": 16,
     "metadata": {},
     "output_type": "execute_result"
    }
   ],
   "source": [
    "np.corrcoef(meteor_scores, bert_scores)"
   ]
  },
  {
   "cell_type": "code",
   "execution_count": 17,
   "id": "0f1d56f2-8512-4d7f-9039-cdd0dc96b105",
   "metadata": {},
   "outputs": [
    {
     "data": {
      "text/plain": [
       "array([[1.        , 0.97944337],\n",
       "       [0.97944337, 1.        ]])"
      ]
     },
     "execution_count": 17,
     "metadata": {},
     "output_type": "execute_result"
    }
   ],
   "source": [
    "np.corrcoef(em_scores, bert_scores)"
   ]
  },
  {
   "cell_type": "code",
   "execution_count": null,
   "id": "712fb605-7554-413c-8efd-ca6641af3a13",
   "metadata": {},
   "outputs": [],
   "source": []
  }
 ],
 "metadata": {
  "kernelspec": {
   "display_name": "odqa-experiments",
   "language": "python",
   "name": "odqa-experiments"
  },
  "language_info": {
   "codemirror_mode": {
    "name": "ipython",
    "version": 3
   },
   "file_extension": ".py",
   "mimetype": "text/x-python",
   "name": "python",
   "nbconvert_exporter": "python",
   "pygments_lexer": "ipython3",
   "version": "3.9.7"
  }
 },
 "nbformat": 4,
 "nbformat_minor": 5
}
