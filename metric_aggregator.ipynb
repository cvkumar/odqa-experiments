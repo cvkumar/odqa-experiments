{
 "cells": [
  {
   "cell_type": "code",
   "execution_count": 7,
   "id": "b58fbea9-0597-4c93-945c-ec208db03002",
   "metadata": {},
   "outputs": [],
   "source": [
    "import pandas as pd\n",
    "import json"
   ]
  },
  {
   "cell_type": "code",
   "execution_count": 12,
   "id": "7d5a7035-7cdb-4071-a12c-ba747068fe2f",
   "metadata": {},
   "outputs": [],
   "source": [
    "xl_results = json.load(open(\"results/nq/t5-xl-ssm-nq_results.json\"))\n",
    "large_results = json.load(open(\"results/nq/t5-large-ssm-nq_results.json\"))\n",
    "gpt_results = json.load(open(\"results/nq/gpt3-nq_results.json\"))"
   ]
  },
  {
   "cell_type": "code",
   "execution_count": 88,
   "id": "281eb547-480e-4e96-b381-f73798fc7686",
   "metadata": {},
   "outputs": [
    {
     "data": {
      "text/plain": [
       "{'total': {'exact_match': 32.96398891966759,\n",
       "  'f1_score': 39.825664640069085,\n",
       "  'bert_score': 0.5399286897506936,\n",
       "  'meteor_score': 0.32245334106687323,\n",
       "  'n_examples': 3610},\n",
       " 'question_overlap': {'exact_match': 73.14814814814815,\n",
       "  'f1_score': 79.96056241426614,\n",
       "  'bert_score': 0.8137125925925922,\n",
       "  'meteor_score': 0.6647202956693178,\n",
       "  'n_examples': 324},\n",
       " 'no_question_overlap': {'exact_match': 11.904761904761905,\n",
       "  'f1_score': 17.830333522297817,\n",
       "  'bert_score': 0.3802626488095234,\n",
       "  'meteor_score': 0.14279529965206905,\n",
       "  'n_examples': 672},\n",
       " 'answer_overlap': {'exact_match': 48.23683064867218,\n",
       "  'f1_score': 54.225600742797084,\n",
       "  'bert_score': 0.6716226295167619,\n",
       "  'meteor_score': 0.4410258872119221,\n",
       "  'n_examples': 2297},\n",
       " 'no_answer_overlap': {'exact_match': 6.245239908606245,\n",
       "  'f1_score': 14.63400186172464,\n",
       "  'bert_score': 0.3095395125666415,\n",
       "  'meteor_score': 0.11501911525181006,\n",
       "  'n_examples': 1313},\n",
       " 'answer_overlap_only': {'em': 0.1905,\n",
       "  'f1': 0.2509,\n",
       "  'bert_score': 0.4736,\n",
       "  'meteor_score': 0.2008,\n",
       "  'total': 315},\n",
       " 'no_overlap': {'em': 0.056,\n",
       "  'f1': 0.1143,\n",
       "  'bert_score': 0.2979,\n",
       "  'meteor_score': 0.0916,\n",
       "  'total': 357}}"
      ]
     },
     "execution_count": 88,
     "metadata": {},
     "output_type": "execute_result"
    }
   ],
   "source": [
    "xl_results"
   ]
  },
  {
   "cell_type": "code",
   "execution_count": 84,
   "id": "e9ba13b8-924a-4889-b952-95939aab9677",
   "metadata": {},
   "outputs": [],
   "source": [
    "metric_names = [\"exact_match\", \"bert_score\", \"meteor_score\"]\n",
    "model_names = [\"t5-large-ssm-nq\", \"t5-xl-ssm-nq\", \"GPT-3\"]\n",
    "model_results = [large_results, xl_results, gpt_results] \n",
    "\n",
    "def add_result(metric_results, model_results, metric_name, model_name):\n",
    "    if metric_name == \"exact_match\":\n",
    "        metric_results.append({\n",
    "            \"model\": model_name,\n",
    "            \"total\": model_results[\"total\"].get(metric_name) or model_results[\"total\"].get(\"em\"),\n",
    "            \"question_overlap\": model_results[\"question_overlap\"].get(metric_name) or model_results[\"question_overlap\"].get(\"em\"),\n",
    "            \"answer_overlap_only\": model_results[\"answer_overlap_only\"].get(metric_name) or model_results[\"answer_overlap_only\"].get(\"em\"),\n",
    "            \"no_overlap\": model_results[\"no_overlap\"].get(metric_name) or model_results[\"no_overlap\"].get(\"em\"),\n",
    "        })\n",
    "    # meteor or bert score\n",
    "    else:\n",
    "        metric_results.append({\n",
    "            \"model\": model_name,\n",
    "            \"total\": model_results[\"total\"][metric_name]*100,\n",
    "            \"question_overlap\": model_results[\"question_overlap\"][metric_name]*100,\n",
    "            \"answer_overlap_only\": model_results[\"answer_overlap_only\"][metric_name]*100,\n",
    "            \"no_overlap\": model_results[\"no_overlap\"][metric_name]*100,\n",
    "        })\n",
    "\n",
    "    return metric_results\n",
    "    \n",
    "def create_results(metric_name):\n",
    "    metric_results = []\n",
    "    for i in range(len(model_names)):\n",
    "        add_result(metric_results, model_results[i], metric_name, model_names[i])\n",
    "    \n",
    "    return metric_results\n",
    "\n",
    "# def create_results(metric_results, model_results):\n",
    "#     for model_name in model_names:\n",
    "#         add_results(metric_results, model_results, model_name)\n",
    "    \n",
    "#     return metric_results"
   ]
  },
  {
   "cell_type": "code",
   "execution_count": 85,
   "id": "896cc535-677a-4aa3-90f8-676ec03886d7",
   "metadata": {},
   "outputs": [],
   "source": [
    "metric_results = create_results(\"bert_score\")\n",
    "pd.DataFrame(metric_results).to_csv(\"results/bert_score.csv\", index=False)"
   ]
  },
  {
   "cell_type": "code",
   "execution_count": 86,
   "id": "f2ba5b3d-36ea-4eb3-a96f-ffdc302ee59d",
   "metadata": {},
   "outputs": [],
   "source": [
    "metric_results = create_results(\"meteor_score\")\n",
    "pd.DataFrame(metric_results).to_csv(\"results/meteor_score.csv\", index=False)"
   ]
  },
  {
   "cell_type": "code",
   "execution_count": 81,
   "id": "e50a63b5-dbc0-4ffa-8fad-c92713956001",
   "metadata": {},
   "outputs": [],
   "source": [
    "metric_results = create_results(\"exact_match\")\n",
    "pd.DataFrame(metric_results).to_csv(\"results/exact_match.csv\", index=False)"
   ]
  },
  {
   "cell_type": "code",
   "execution_count": null,
   "id": "d916d71e-ba0b-4c84-815c-804558c05b82",
   "metadata": {},
   "outputs": [],
   "source": []
  }
 ],
 "metadata": {
  "kernelspec": {
   "display_name": "odqa-experiments",
   "language": "python",
   "name": "odqa-experiments"
  },
  "language_info": {
   "codemirror_mode": {
    "name": "ipython",
    "version": 3
   },
   "file_extension": ".py",
   "mimetype": "text/x-python",
   "name": "python",
   "nbconvert_exporter": "python",
   "pygments_lexer": "ipython3",
   "version": "3.9.7"
  }
 },
 "nbformat": 4,
 "nbformat_minor": 5
}
