{
 "cells": [
  {
   "cell_type": "code",
   "execution_count": 99,
   "id": "5c0bb57c-21c8-4e4d-a041-cbdd5bbd17d8",
   "metadata": {},
   "outputs": [],
   "source": [
    "import pandas as pd\n",
    "import transformers\n",
    "from evaluate import *\n",
    "\n",
    "from overlap_evaluate import (\n",
    "    _print_score,\n",
    "    get_scores,\n",
    "    read_references,\n",
    "    read_annotations,\n",
    "    ANNOTATIONS,\n",
    ")\n",
    "from sklearn.model_selection import train_test_split\n",
    "\n",
    "from transformers import AutoModelForSequenceClassification, TrainingArguments, Trainer, AutoTokenizer\n",
    "import torch"
   ]
  },
  {
   "cell_type": "code",
   "execution_count": 100,
   "id": "f74bce22-962b-4d45-ace9-c449c0216f66",
   "metadata": {},
   "outputs": [],
   "source": [
    "dataset = \"nq\"\n",
    "data_df = pd.read_csv(f\"data/{dataset}-test-ctxs.qa.csv\")\n",
    "annotations = read_annotations(f\"data/{dataset}-annotations.jsonl\")\n",
    "annotation_df = pd.DataFrame(annotations)"
   ]
  },
  {
   "cell_type": "code",
   "execution_count": 101,
   "id": "5e90de06-ca54-4d66-a813-fd8975e6f841",
   "metadata": {},
   "outputs": [],
   "source": [
    "data_df = data_df.drop('ctxs', axis=1)\n",
    "data_df = data_df.drop('answers', axis=1)\n",
    "data_df['labels'] = annotation_df['labels']"
   ]
  },
  {
   "cell_type": "code",
   "execution_count": 102,
   "id": "d6ab9182-660c-4b32-bbf5-dcb3cae7dbb0",
   "metadata": {},
   "outputs": [
    {
     "data": {
      "text/html": [
       "<div>\n",
       "<style scoped>\n",
       "    .dataframe tbody tr th:only-of-type {\n",
       "        vertical-align: middle;\n",
       "    }\n",
       "\n",
       "    .dataframe tbody tr th {\n",
       "        vertical-align: top;\n",
       "    }\n",
       "\n",
       "    .dataframe thead th {\n",
       "        text-align: right;\n",
       "    }\n",
       "</style>\n",
       "<table border=\"1\" class=\"dataframe\">\n",
       "  <thead>\n",
       "    <tr style=\"text-align: right;\">\n",
       "      <th></th>\n",
       "      <th>question</th>\n",
       "      <th>labels</th>\n",
       "    </tr>\n",
       "  </thead>\n",
       "  <tbody>\n",
       "    <tr>\n",
       "      <th>0</th>\n",
       "      <td>who got the first nobel prize in physics</td>\n",
       "      <td>[total, answer_overlap]</td>\n",
       "    </tr>\n",
       "    <tr>\n",
       "      <th>1</th>\n",
       "      <td>when is the next deadpool movie being released</td>\n",
       "      <td>[total, answer_overlap]</td>\n",
       "    </tr>\n",
       "    <tr>\n",
       "      <th>2</th>\n",
       "      <td>which mode is used for short wave broadcast se...</td>\n",
       "      <td>[total, answer_overlap]</td>\n",
       "    </tr>\n",
       "    <tr>\n",
       "      <th>3</th>\n",
       "      <td>the south west wind blows across nigeria between</td>\n",
       "      <td>[total, no_answer_overlap]</td>\n",
       "    </tr>\n",
       "    <tr>\n",
       "      <th>4</th>\n",
       "      <td>what does hp mean in war and order</td>\n",
       "      <td>[total, no_answer_overlap]</td>\n",
       "    </tr>\n",
       "  </tbody>\n",
       "</table>\n",
       "</div>"
      ],
      "text/plain": [
       "                                            question  \\\n",
       "0           who got the first nobel prize in physics   \n",
       "1     when is the next deadpool movie being released   \n",
       "2  which mode is used for short wave broadcast se...   \n",
       "3   the south west wind blows across nigeria between   \n",
       "4                 what does hp mean in war and order   \n",
       "\n",
       "                       labels  \n",
       "0     [total, answer_overlap]  \n",
       "1     [total, answer_overlap]  \n",
       "2     [total, answer_overlap]  \n",
       "3  [total, no_answer_overlap]  \n",
       "4  [total, no_answer_overlap]  "
      ]
     },
     "execution_count": 102,
     "metadata": {},
     "output_type": "execute_result"
    }
   ],
   "source": [
    "data_df.head()"
   ]
  },
  {
   "cell_type": "code",
   "execution_count": 103,
   "id": "0c0679ae-cd50-40da-882f-15263ee6dbe3",
   "metadata": {},
   "outputs": [],
   "source": [
    "# ONLY QUESTION OVERLAP\n",
    "results = []\n",
    "for index, row in data_df.iterrows():\n",
    "    overlap = None\n",
    "    # print(row[\"labels\"])\n",
    "    if \"question_overlap\" in row['labels']:\n",
    "        overlap = 1\n",
    "    elif \"no_question_overlap\" in row['labels']:\n",
    "        overlap = 0\n",
    "\n",
    "    if overlap is not None:\n",
    "        results.append({\n",
    "            \"question\": row[\"question\"],\n",
    "            \"overlap\": overlap\n",
    "        })"
   ]
  },
  {
   "cell_type": "code",
   "execution_count": 104,
   "id": "c3a1db1e-00f6-4d66-8305-d731dd72aa10",
   "metadata": {},
   "outputs": [],
   "source": [
    "data_df = pd.DataFrame(results)"
   ]
  },
  {
   "cell_type": "code",
   "execution_count": 105,
   "id": "0099513b-be9a-4185-a494-6a9f5d264a5a",
   "metadata": {},
   "outputs": [
    {
     "data": {
      "text/plain": [
       "0    672\n",
       "1    324\n",
       "Name: overlap, dtype: int64"
      ]
     },
     "execution_count": 105,
     "metadata": {},
     "output_type": "execute_result"
    }
   ],
   "source": [
    "data_df['overlap'].value_counts()"
   ]
  },
  {
   "cell_type": "code",
   "execution_count": 106,
   "id": "975c9651-1120-4484-b4cb-77fa2f45bfc1",
   "metadata": {},
   "outputs": [],
   "source": [
    "train_df, test_df = train_test_split(data_df, train_size=.8, random_state=42)"
   ]
  },
  {
   "cell_type": "code",
   "execution_count": 107,
   "id": "fe46cd1b-4311-42ea-89ab-c42930c31061",
   "metadata": {},
   "outputs": [
    {
     "data": {
      "text/plain": [
       "0    536\n",
       "1    260\n",
       "Name: overlap, dtype: int64"
      ]
     },
     "execution_count": 107,
     "metadata": {},
     "output_type": "execute_result"
    }
   ],
   "source": [
    "train_df['overlap'].value_counts()"
   ]
  },
  {
   "cell_type": "code",
   "execution_count": 108,
   "id": "7fa7d7dc-4b83-423c-ba2e-2eac23639f09",
   "metadata": {},
   "outputs": [
    {
     "data": {
      "text/plain": [
       "0    136\n",
       "1     64\n",
       "Name: overlap, dtype: int64"
      ]
     },
     "execution_count": 108,
     "metadata": {},
     "output_type": "execute_result"
    }
   ],
   "source": [
    "test_df['overlap'].value_counts()"
   ]
  },
  {
   "cell_type": "code",
   "execution_count": 120,
   "id": "336d9dcf-cc54-415a-9a7d-b275b171267d",
   "metadata": {},
   "outputs": [],
   "source": [
    "train_df = pd.concat([train_df, train_df.loc[train_df['overlap'] == 1].sample(n=276, random_state=42, replace=True)])"
   ]
  },
  {
   "cell_type": "code",
   "execution_count": 121,
   "id": "4eb8fbcf-4b0c-49ed-ba7e-34270e9fa363",
   "metadata": {},
   "outputs": [
    {
     "data": {
      "text/plain": [
       "0    536\n",
       "1    536\n",
       "Name: overlap, dtype: int64"
      ]
     },
     "execution_count": 121,
     "metadata": {},
     "output_type": "execute_result"
    }
   ],
   "source": [
    "train_df['overlap'].value_counts()"
   ]
  },
  {
   "cell_type": "code",
   "execution_count": 122,
   "id": "6338c301-ac51-49e3-80ed-751a2fd43eb7",
   "metadata": {},
   "outputs": [
    {
     "data": {
      "text/html": [
       "<div>\n",
       "<style scoped>\n",
       "    .dataframe tbody tr th:only-of-type {\n",
       "        vertical-align: middle;\n",
       "    }\n",
       "\n",
       "    .dataframe tbody tr th {\n",
       "        vertical-align: top;\n",
       "    }\n",
       "\n",
       "    .dataframe thead th {\n",
       "        text-align: right;\n",
       "    }\n",
       "</style>\n",
       "<table border=\"1\" class=\"dataframe\">\n",
       "  <thead>\n",
       "    <tr style=\"text-align: right;\">\n",
       "      <th></th>\n",
       "      <th>question</th>\n",
       "      <th>overlap</th>\n",
       "    </tr>\n",
       "  </thead>\n",
       "  <tbody>\n",
       "    <tr>\n",
       "      <th>626</th>\n",
       "      <td>the temperature of gas is proportional to the</td>\n",
       "      <td>0</td>\n",
       "    </tr>\n",
       "    <tr>\n",
       "      <th>307</th>\n",
       "      <td>who missed the plane the day the music died</td>\n",
       "      <td>1</td>\n",
       "    </tr>\n",
       "    <tr>\n",
       "      <th>662</th>\n",
       "      <td>where did the allies go after north africa</td>\n",
       "      <td>0</td>\n",
       "    </tr>\n",
       "    <tr>\n",
       "      <th>394</th>\n",
       "      <td>who said i will not go quietly into the night</td>\n",
       "      <td>1</td>\n",
       "    </tr>\n",
       "    <tr>\n",
       "      <th>644</th>\n",
       "      <td>when does season 5 of ruby come out</td>\n",
       "      <td>0</td>\n",
       "    </tr>\n",
       "  </tbody>\n",
       "</table>\n",
       "</div>"
      ],
      "text/plain": [
       "                                          question  overlap\n",
       "626  the temperature of gas is proportional to the        0\n",
       "307    who missed the plane the day the music died        1\n",
       "662     where did the allies go after north africa        0\n",
       "394  who said i will not go quietly into the night        1\n",
       "644            when does season 5 of ruby come out        0"
      ]
     },
     "execution_count": 122,
     "metadata": {},
     "output_type": "execute_result"
    }
   ],
   "source": [
    "train_df.head()"
   ]
  },
  {
   "cell_type": "code",
   "execution_count": null,
   "id": "612e8656-50f7-46e2-8609-9e2a74395a7d",
   "metadata": {},
   "outputs": [],
   "source": []
  },
  {
   "cell_type": "code",
   "execution_count": 125,
   "id": "88ba1c2c-9894-44bf-9837-fffc2987f435",
   "metadata": {},
   "outputs": [
    {
     "name": "stderr",
     "output_type": "stream",
     "text": [
      "loading configuration file https://huggingface.co/bert-base-uncased/resolve/main/config.json from cache at /Users/calebkumar/.cache/huggingface/transformers/3c61d016573b14f7f008c02c4e51a366c67ab274726fe2910691e2a761acf43e.37395cee442ab11005bcd270f3c34464dc1704b715b5d7d52b1a461abe3b9e4e\n",
      "Model config BertConfig {\n",
      "  \"_name_or_path\": \"bert-base-uncased\",\n",
      "  \"architectures\": [\n",
      "    \"BertForMaskedLM\"\n",
      "  ],\n",
      "  \"attention_probs_dropout_prob\": 0.1,\n",
      "  \"classifier_dropout\": null,\n",
      "  \"gradient_checkpointing\": false,\n",
      "  \"hidden_act\": \"gelu\",\n",
      "  \"hidden_dropout_prob\": 0.1,\n",
      "  \"hidden_size\": 768,\n",
      "  \"initializer_range\": 0.02,\n",
      "  \"intermediate_size\": 3072,\n",
      "  \"layer_norm_eps\": 1e-12,\n",
      "  \"max_position_embeddings\": 512,\n",
      "  \"model_type\": \"bert\",\n",
      "  \"num_attention_heads\": 12,\n",
      "  \"num_hidden_layers\": 12,\n",
      "  \"pad_token_id\": 0,\n",
      "  \"position_embedding_type\": \"absolute\",\n",
      "  \"transformers_version\": \"4.17.0\",\n",
      "  \"type_vocab_size\": 2,\n",
      "  \"use_cache\": true,\n",
      "  \"vocab_size\": 30522\n",
      "}\n",
      "\n",
      "loading file https://huggingface.co/bert-base-uncased/resolve/main/vocab.txt from cache at /Users/calebkumar/.cache/huggingface/transformers/45c3f7a79a80e1cf0a489e5c62b43f173c15db47864303a55d623bb3c96f72a5.d789d64ebfe299b0e416afc4a169632f903f693095b4629a7ea271d5a0cf2c99\n",
      "loading file https://huggingface.co/bert-base-uncased/resolve/main/tokenizer.json from cache at /Users/calebkumar/.cache/huggingface/transformers/534479488c54aeaf9c3406f647aa2ec13648c06771ffe269edabebd4c412da1d.7f2721073f19841be16f41b0a70b600ca6b880c8f3df6f3535cbc704371bdfa4\n",
      "loading file https://huggingface.co/bert-base-uncased/resolve/main/added_tokens.json from cache at None\n",
      "loading file https://huggingface.co/bert-base-uncased/resolve/main/special_tokens_map.json from cache at None\n",
      "loading file https://huggingface.co/bert-base-uncased/resolve/main/tokenizer_config.json from cache at /Users/calebkumar/.cache/huggingface/transformers/c1d7f0a763fb63861cc08553866f1fc3e5a6f4f07621be277452d26d71303b7e.20430bd8e10ef77a7d2977accefe796051e01bc2fc4aa146bc862997a1a15e79\n",
      "loading configuration file https://huggingface.co/bert-base-uncased/resolve/main/config.json from cache at /Users/calebkumar/.cache/huggingface/transformers/3c61d016573b14f7f008c02c4e51a366c67ab274726fe2910691e2a761acf43e.37395cee442ab11005bcd270f3c34464dc1704b715b5d7d52b1a461abe3b9e4e\n",
      "Model config BertConfig {\n",
      "  \"_name_or_path\": \"bert-base-uncased\",\n",
      "  \"architectures\": [\n",
      "    \"BertForMaskedLM\"\n",
      "  ],\n",
      "  \"attention_probs_dropout_prob\": 0.1,\n",
      "  \"classifier_dropout\": null,\n",
      "  \"gradient_checkpointing\": false,\n",
      "  \"hidden_act\": \"gelu\",\n",
      "  \"hidden_dropout_prob\": 0.1,\n",
      "  \"hidden_size\": 768,\n",
      "  \"initializer_range\": 0.02,\n",
      "  \"intermediate_size\": 3072,\n",
      "  \"layer_norm_eps\": 1e-12,\n",
      "  \"max_position_embeddings\": 512,\n",
      "  \"model_type\": \"bert\",\n",
      "  \"num_attention_heads\": 12,\n",
      "  \"num_hidden_layers\": 12,\n",
      "  \"pad_token_id\": 0,\n",
      "  \"position_embedding_type\": \"absolute\",\n",
      "  \"transformers_version\": \"4.17.0\",\n",
      "  \"type_vocab_size\": 2,\n",
      "  \"use_cache\": true,\n",
      "  \"vocab_size\": 30522\n",
      "}\n",
      "\n"
     ]
    }
   ],
   "source": [
    "model_name = \"bert-base-uncased\"\n",
    "tokenizer = AutoTokenizer.from_pretrained(model_name)"
   ]
  },
  {
   "cell_type": "code",
   "execution_count": 126,
   "id": "0f3a0cc5-fd45-44e6-8ab1-54465253c4fb",
   "metadata": {},
   "outputs": [],
   "source": [
    "train_encodings = tokenizer(list(train_df['question']), padding=True, truncation=True, return_tensors=\"pt\")\n",
    "test_encodings = tokenizer(list(test_df['question']), padding=True, truncation=True, return_tensors=\"pt\")"
   ]
  },
  {
   "cell_type": "code",
   "execution_count": 127,
   "id": "bcbde803-b055-45c0-bfb2-d1f3e8e54fd4",
   "metadata": {},
   "outputs": [],
   "source": [
    "class OverlapDataset(torch.utils.data.Dataset):\n",
    "    def __init__(self, encodings, labels):\n",
    "        self.encodings = encodings\n",
    "        self.labels = labels\n",
    "\n",
    "    def __getitem__(self, idx):\n",
    "        item = {key: torch.tensor(val[idx]) for key, val in self.encodings.items()}\n",
    "        item['labels'] = torch.tensor(self.labels[idx])\n",
    "        return item\n",
    "\n",
    "    def __len__(self):\n",
    "        return len(self.labels)"
   ]
  },
  {
   "cell_type": "code",
   "execution_count": 128,
   "id": "704c657c-2584-4293-b411-5f3db2796fe4",
   "metadata": {},
   "outputs": [],
   "source": [
    "train_dataset = OverlapDataset(train_encodings, list(train_df['overlap']))\n",
    "test_dataset = OverlapDataset(test_encodings, list(test_df['overlap']))"
   ]
  },
  {
   "cell_type": "code",
   "execution_count": 129,
   "id": "6cc688f2-d58d-41b9-ac1d-1df9471e91c5",
   "metadata": {},
   "outputs": [
    {
     "name": "stderr",
     "output_type": "stream",
     "text": [
      "loading configuration file https://huggingface.co/bert-base-uncased/resolve/main/config.json from cache at /Users/calebkumar/.cache/huggingface/transformers/3c61d016573b14f7f008c02c4e51a366c67ab274726fe2910691e2a761acf43e.37395cee442ab11005bcd270f3c34464dc1704b715b5d7d52b1a461abe3b9e4e\n",
      "Model config BertConfig {\n",
      "  \"_name_or_path\": \"bert-base-uncased\",\n",
      "  \"architectures\": [\n",
      "    \"BertForMaskedLM\"\n",
      "  ],\n",
      "  \"attention_probs_dropout_prob\": 0.1,\n",
      "  \"classifier_dropout\": null,\n",
      "  \"gradient_checkpointing\": false,\n",
      "  \"hidden_act\": \"gelu\",\n",
      "  \"hidden_dropout_prob\": 0.1,\n",
      "  \"hidden_size\": 768,\n",
      "  \"initializer_range\": 0.02,\n",
      "  \"intermediate_size\": 3072,\n",
      "  \"layer_norm_eps\": 1e-12,\n",
      "  \"max_position_embeddings\": 512,\n",
      "  \"model_type\": \"bert\",\n",
      "  \"num_attention_heads\": 12,\n",
      "  \"num_hidden_layers\": 12,\n",
      "  \"pad_token_id\": 0,\n",
      "  \"position_embedding_type\": \"absolute\",\n",
      "  \"transformers_version\": \"4.17.0\",\n",
      "  \"type_vocab_size\": 2,\n",
      "  \"use_cache\": true,\n",
      "  \"vocab_size\": 30522\n",
      "}\n",
      "\n",
      "loading weights file https://huggingface.co/bert-base-uncased/resolve/main/pytorch_model.bin from cache at /Users/calebkumar/.cache/huggingface/transformers/a8041bf617d7f94ea26d15e218abd04afc2004805632abc0ed2066aa16d50d04.faf6ea826ae9c5867d12b22257f9877e6b8367890837bd60f7c54a29633f7f2f\n",
      "Some weights of the model checkpoint at bert-base-uncased were not used when initializing BertForSequenceClassification: ['cls.predictions.transform.dense.bias', 'cls.predictions.transform.LayerNorm.weight', 'cls.predictions.decoder.weight', 'cls.predictions.transform.dense.weight', 'cls.predictions.bias', 'cls.seq_relationship.bias', 'cls.predictions.transform.LayerNorm.bias', 'cls.seq_relationship.weight']\n",
      "- This IS expected if you are initializing BertForSequenceClassification from the checkpoint of a model trained on another task or with another architecture (e.g. initializing a BertForSequenceClassification model from a BertForPreTraining model).\n",
      "- This IS NOT expected if you are initializing BertForSequenceClassification from the checkpoint of a model that you expect to be exactly identical (initializing a BertForSequenceClassification model from a BertForSequenceClassification model).\n",
      "Some weights of BertForSequenceClassification were not initialized from the model checkpoint at bert-base-uncased and are newly initialized: ['classifier.bias', 'classifier.weight']\n",
      "You should probably TRAIN this model on a down-stream task to be able to use it for predictions and inference.\n",
      "PyTorch: setting up devices\n",
      "The default value for the training argument `--report_to` will change in v5 (from all installed integrations to none). In v5, you will need to use `--report_to all` to get the same behavior as now. You should start updating your code and make this info disappear :-).\n",
      "/Users/calebkumar/repos/stanford/project/odqa-experiments/odqa-experiments/lib/python3.9/site-packages/transformers/optimization.py:306: FutureWarning: This implementation of AdamW is deprecated and will be removed in a future version. Use the PyTorch implementation torch.optim.AdamW instead, or set `no_deprecation_warning=True` to disable this warning\n",
      "  warnings.warn(\n",
      "***** Running training *****\n",
      "  Num examples = 1072\n",
      "  Num Epochs = 2\n",
      "  Instantaneous batch size per device = 8\n",
      "  Total train batch size (w. parallel, distributed & accumulation) = 8\n",
      "  Gradient Accumulation steps = 1\n",
      "  Total optimization steps = 268\n",
      "/var/folders/5c/rh_j56vx44n9xrrr4x_wcf0m0000gn/T/ipykernel_98974/2581479770.py:7: UserWarning: To copy construct from a tensor, it is recommended to use sourceTensor.clone().detach() or sourceTensor.clone().detach().requires_grad_(True), rather than torch.tensor(sourceTensor).\n",
      "  item = {key: torch.tensor(val[idx]) for key, val in self.encodings.items()}\n"
     ]
    },
    {
     "data": {
      "text/html": [
       "\n",
       "    <div>\n",
       "      \n",
       "      <progress value='268' max='268' style='width:300px; height:20px; vertical-align: middle;'></progress>\n",
       "      [268/268 10:37, Epoch 2/2]\n",
       "    </div>\n",
       "    <table border=\"1\" class=\"dataframe\">\n",
       "  <thead>\n",
       " <tr style=\"text-align: left;\">\n",
       "      <th>Step</th>\n",
       "      <th>Training Loss</th>\n",
       "    </tr>\n",
       "  </thead>\n",
       "  <tbody>\n",
       "  </tbody>\n",
       "</table><p>"
      ],
      "text/plain": [
       "<IPython.core.display.HTML object>"
      ]
     },
     "metadata": {},
     "output_type": "display_data"
    },
    {
     "name": "stderr",
     "output_type": "stream",
     "text": [
      "\n",
      "\n",
      "Training completed. Do not forget to share your model on huggingface.co/models =)\n",
      "\n",
      "\n"
     ]
    },
    {
     "name": "stdout",
     "output_type": "stream",
     "text": [
      "640.0495181083679 seconds\n"
     ]
    }
   ],
   "source": [
    "model = AutoModelForSequenceClassification.from_pretrained(model_name, num_labels=2)\n",
    "training_args = TrainingArguments(\"saved_models/overlap_bert_2\", num_train_epochs=2)\n",
    "trainer = Trainer(model=model, args=training_args, train_dataset=train_dataset, eval_dataset=test_dataset)\n",
    "start = time.time()\n",
    "trainer.train()\n",
    "print(f\"{time.time() - start} seconds\")"
   ]
  },
  {
   "cell_type": "code",
   "execution_count": 130,
   "id": "b4d685f5-8206-4ecc-9327-168be58e24e1",
   "metadata": {},
   "outputs": [
    {
     "data": {
      "text/plain": [
       "0"
      ]
     },
     "execution_count": 130,
     "metadata": {},
     "output_type": "execute_result"
    }
   ],
   "source": [
    "import numpy as np\n",
    "def bert_predict(model, text):\n",
    "    inputs = tokenizer(text, padding=True, truncation=True, return_tensors=\"pt\")\n",
    "    result = model(**inputs)\n",
    "    return np.argmax(result.logits.detach().numpy())\n",
    "\n",
    "bert_predict(model, \"Are you an egg?\")"
   ]
  },
  {
   "cell_type": "code",
   "execution_count": 131,
   "id": "dab06f51-3f63-4eea-9e7e-f625167be8f6",
   "metadata": {},
   "outputs": [],
   "source": [
    "predictions = []\n",
    "for i in range(len(test_df)):\n",
    "    predictions.append(bert_predict(model, test_df.iloc[i]['question']))\n",
    "\n"
   ]
  },
  {
   "cell_type": "code",
   "execution_count": 132,
   "id": "fa466151-8b07-4408-9fa2-e9620c2b99c1",
   "metadata": {},
   "outputs": [
    {
     "name": "stdout",
     "output_type": "stream",
     "text": [
      "              precision    recall  f1-score   support\n",
      "\n",
      "           0     0.7845    0.6691    0.7222       136\n",
      "           1     0.4643    0.6094    0.5270        64\n",
      "\n",
      "    accuracy                         0.6500       200\n",
      "   macro avg     0.6244    0.6392    0.6246       200\n",
      "weighted avg     0.6820    0.6500    0.6598       200\n",
      "\n"
     ]
    }
   ],
   "source": [
    "from sklearn.metrics import classification_report\n",
    "print(classification_report(list(test_df['overlap']), predictions, digits=4))"
   ]
  },
  {
   "cell_type": "code",
   "execution_count": 133,
   "id": "e3fa6529-79ed-4539-9302-dfecec27d138",
   "metadata": {},
   "outputs": [
    {
     "name": "stderr",
     "output_type": "stream",
     "text": [
      "Configuration saved in saved_models/bert_question_overlap_classifier_2/config.json\n",
      "Model weights saved in saved_models/bert_question_overlap_classifier_2/pytorch_model.bin\n"
     ]
    }
   ],
   "source": [
    "model.save_pretrained(\"saved_models/bert_question_overlap_classifier_2\")"
   ]
  },
  {
   "cell_type": "code",
   "execution_count": null,
   "id": "5b7cd51e-921d-4784-8243-d06ece6a6181",
   "metadata": {},
   "outputs": [],
   "source": []
  }
 ],
 "metadata": {
  "kernelspec": {
   "display_name": "odqa-experiments",
   "language": "python",
   "name": "odqa-experiments"
  },
  "language_info": {
   "codemirror_mode": {
    "name": "ipython",
    "version": 3
   },
   "file_extension": ".py",
   "mimetype": "text/x-python",
   "name": "python",
   "nbconvert_exporter": "python",
   "pygments_lexer": "ipython3",
   "version": "3.9.7"
  }
 },
 "nbformat": 4,
 "nbformat_minor": 5
}
