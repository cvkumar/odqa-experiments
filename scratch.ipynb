{
 "cells": [
  {
   "cell_type": "code",
   "execution_count": 1,
   "id": "54d4318d-166e-428e-b4e5-e561d907313f",
   "metadata": {},
   "outputs": [],
   "source": [
    "import pandas as pd"
   ]
  },
  {
   "cell_type": "code",
   "execution_count": 5,
   "id": "1e18c63d-e052-4131-878b-b0a28547e202",
   "metadata": {},
   "outputs": [],
   "source": [
    "import json\n",
    "\n",
    "results = json.load(open(\"results/nq/fid-large-nq_results.json\"))"
   ]
  },
  {
   "cell_type": "code",
   "execution_count": 6,
   "id": "2900ee3c-83d3-4245-9013-d4e802e829e8",
   "metadata": {},
   "outputs": [
    {
     "data": {
      "text/plain": [
       "{'total': {'exact_match': 53.13019390581717,\n",
       "  'f1_score': 60.7306064203572,\n",
       "  'bert_score': 0.6836218864265929,\n",
       "  'meteor_score': 0.4788400328518001,\n",
       "  'n_examples': 3610},\n",
       " 'question_overlap': {'exact_match': 76.23456790123457,\n",
       "  'f1_score': 81.8759018759019,\n",
       "  'bert_score': 0.8364304629629628,\n",
       "  'meteor_score': 0.6609091909421637,\n",
       "  'n_examples': 324},\n",
       " 'no_question_overlap': {'exact_match': 42.11309523809524,\n",
       "  'f1_score': 50.78433140933142,\n",
       "  'bert_score': 0.6087053571428568,\n",
       "  'meteor_score': 0.3985079594415302,\n",
       "  'n_examples': 672},\n",
       " 'answer_overlap': {'exact_match': 63.77884196778407,\n",
       "  'f1_score': 69.64913454465051,\n",
       "  'bert_score': 0.7671365259033526,\n",
       "  'meteor_score': 0.5394593015853919,\n",
       "  'n_examples': 2297},\n",
       " 'no_answer_overlap': {'exact_match': 34.5011424219345,\n",
       "  'f1_score': 45.12827656392011,\n",
       "  'bert_score': 0.5375189794364055,\n",
       "  'meteor_score': 0.37279093895913895,\n",
       "  'n_examples': 1313},\n",
       " 'answer_overlap_only': {'exact_match': 47.61904761904762,\n",
       "  'f1_score': 55.37792894935753,\n",
       "  'bert_score': 0.6746063809523815,\n",
       "  'meteor_score': 0.4173547951997344,\n",
       "  'n_examples': 315},\n",
       " 'no_overlap': {'em': 0.3725,\n",
       "  'f1': 0.4673,\n",
       "  'bert_score': 0.5506,\n",
       "  'meteor_score': 0.3819,\n",
       "  'total': 357}}"
      ]
     },
     "execution_count": 6,
     "metadata": {},
     "output_type": "execute_result"
    }
   ],
   "source": [
    "results"
   ]
  },
  {
   "cell_type": "code",
   "execution_count": 7,
   "id": "1f7aa9fb-83bb-410a-ad26-2708f6f3152a",
   "metadata": {},
   "outputs": [],
   "source": [
    "import numpy as np\n"
   ]
  },
  {
   "cell_type": "code",
   "execution_count": 10,
   "id": "9bee191e-7f62-445d-8bb8-dde4642bc02a",
   "metadata": {},
   "outputs": [
    {
     "data": {
      "text/plain": [
       "array([[1.        , 0.98974925],\n",
       "       [0.98974925, 1.        ]])"
      ]
     },
     "execution_count": 10,
     "metadata": {},
     "output_type": "execute_result"
    }
   ],
   "source": [
    "np.corrcoef([53.13,\n",
    "76.23,\n",
    "47.62,\n",
    "37.25], [47.88,\n",
    "66.09,\n",
    "41.74,\n",
    "38.19\n",
    "])"
   ]
  },
  {
   "cell_type": "code",
   "execution_count": 11,
   "id": "ffb4e83c-c54f-40bc-b0e2-1bfb015bf5fe",
   "metadata": {},
   "outputs": [
    {
     "data": {
      "text/plain": [
       "array([[1.        , 0.94585926],\n",
       "       [0.94585926, 1.        ]])"
      ]
     },
     "execution_count": 11,
     "metadata": {},
     "output_type": "execute_result"
    }
   ],
   "source": [
    "np.corrcoef([68.36,\n",
    "83.64,\n",
    "67.46,\n",
    "55.06,\n",
    "\n",
    "], [47.88,\n",
    "66.09,\n",
    "41.74,\n",
    "38.19\n",
    "])"
   ]
  },
  {
   "cell_type": "code",
   "execution_count": null,
   "id": "36362ca5-5e8a-4db5-9832-0ed11135b995",
   "metadata": {},
   "outputs": [],
   "source": []
  }
 ],
 "metadata": {
  "kernelspec": {
   "display_name": "odqa-experiments",
   "language": "python",
   "name": "odqa-experiments"
  },
  "language_info": {
   "codemirror_mode": {
    "name": "ipython",
    "version": 3
   },
   "file_extension": ".py",
   "mimetype": "text/x-python",
   "name": "python",
   "nbconvert_exporter": "python",
   "pygments_lexer": "ipython3",
   "version": "3.9.7"
  }
 },
 "nbformat": 4,
 "nbformat_minor": 5
}
