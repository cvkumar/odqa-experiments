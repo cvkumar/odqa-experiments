{
 "cells": [
  {
   "cell_type": "code",
   "execution_count": 91,
   "id": "d8e015ed-6486-485d-8bfb-d36f561b6df6",
   "metadata": {},
   "outputs": [],
   "source": [
    "import pandas as pd\n",
    "from evaluate import *\n",
    "from overlap_evaluate import *\n",
    "\n",
    "import json"
   ]
  },
  {
   "cell_type": "code",
   "execution_count": 103,
   "id": "12006774-a922-4774-a4bb-6b5de3126d51",
   "metadata": {},
   "outputs": [],
   "source": [
    "results = pd.read_csv(\"results/nq/t5-large-ssm-nq_results.csv\").to_dict('records')\n",
    "\n",
    "f = open(\"results/nq/t5-large-ssm-nq_results.json\")\n",
    "json_results = json.load(f)"
   ]
  },
  {
   "cell_type": "code",
   "execution_count": 93,
   "id": "dcfe9594-6988-4ca6-a55b-c1e5af776403",
   "metadata": {},
   "outputs": [],
   "source": [
    "helper = QAModel()"
   ]
  },
  {
   "cell_type": "code",
   "execution_count": 105,
   "id": "98a55644-4e5c-4fac-b332-161e83ab22cd",
   "metadata": {},
   "outputs": [],
   "source": [
    "no_overlap = helper.compute_no_overlap_score(results)"
   ]
  },
  {
   "cell_type": "code",
   "execution_count": 106,
   "id": "0211539a-601d-43c1-9a4d-7fd82ce64cf9",
   "metadata": {},
   "outputs": [
    {
     "data": {
      "text/plain": [
       "{'em': 0.0224,\n",
       " 'f1': 0.075,\n",
       " 'bert_score': 0.2455,\n",
       " 'meteor_score': 0.0573,\n",
       " 'total': 357}"
      ]
     },
     "execution_count": 106,
     "metadata": {},
     "output_type": "execute_result"
    }
   ],
   "source": [
    "no_overlap"
   ]
  },
  {
   "cell_type": "code",
   "execution_count": 108,
   "id": "574f4e0b-cea1-40de-9089-12c63580a675",
   "metadata": {},
   "outputs": [],
   "source": [
    "json_results['no_overlap'] = no_overlap"
   ]
  },
  {
   "cell_type": "code",
   "execution_count": 110,
   "id": "ce880969-1bc8-4598-90f5-66c1c17d0581",
   "metadata": {},
   "outputs": [],
   "source": [
    "with open(\"results/nq/t5-large-ssm-nq_results.json\", \"w\") as outfile:\n",
    "    json.dump(json_results, outfile)"
   ]
  },
  {
   "cell_type": "code",
   "execution_count": null,
   "id": "82a1569e-5782-442c-912e-0d600b535f95",
   "metadata": {},
   "outputs": [],
   "source": []
  }
 ],
 "metadata": {
  "kernelspec": {
   "display_name": "odqa-experiments",
   "language": "python",
   "name": "odqa-experiments"
  },
  "language_info": {
   "codemirror_mode": {
    "name": "ipython",
    "version": 3
   },
   "file_extension": ".py",
   "mimetype": "text/x-python",
   "name": "python",
   "nbconvert_exporter": "python",
   "pygments_lexer": "ipython3",
   "version": "3.9.7"
  }
 },
 "nbformat": 4,
 "nbformat_minor": 5
}
